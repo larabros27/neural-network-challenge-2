{
  "cells": [
    {
      "cell_type": "markdown",
      "metadata": {
        "id": "alIIEHibGc3M"
      },
      "source": [
        "## Part 1: Preprocessing"
      ]
    },
    {
      "cell_type": "code",
      "execution_count": 1,
      "metadata": {
        "colab": {
          "base_uri": "https://localhost:8080/",
          "height": 325
        },
        "id": "6eDUJ4NtGc3P",
        "outputId": "ad430455-da25-44a8-e25c-fea741a1cc0f"
      },
      "outputs": [
        {
          "output_type": "execute_result",
          "data": {
            "text/plain": [
              "   Age Attrition     BusinessTravel              Department  DistanceFromHome  \\\n",
              "0   41       Yes      Travel_Rarely                   Sales                 1   \n",
              "1   49        No  Travel_Frequently  Research & Development                 8   \n",
              "2   37       Yes      Travel_Rarely  Research & Development                 2   \n",
              "3   33        No  Travel_Frequently  Research & Development                 3   \n",
              "4   27        No      Travel_Rarely  Research & Development                 2   \n",
              "\n",
              "   Education EducationField  EnvironmentSatisfaction  HourlyRate  \\\n",
              "0          2  Life Sciences                        2          94   \n",
              "1          1  Life Sciences                        3          61   \n",
              "2          2          Other                        4          92   \n",
              "3          4  Life Sciences                        4          56   \n",
              "4          1        Medical                        1          40   \n",
              "\n",
              "   JobInvolvement  ...  PerformanceRating RelationshipSatisfaction  \\\n",
              "0               3  ...                  3                        1   \n",
              "1               2  ...                  4                        4   \n",
              "2               2  ...                  3                        2   \n",
              "3               3  ...                  3                        3   \n",
              "4               3  ...                  3                        4   \n",
              "\n",
              "   StockOptionLevel TotalWorkingYears  TrainingTimesLastYear WorkLifeBalance  \\\n",
              "0                 0                 8                      0               1   \n",
              "1                 1                10                      3               3   \n",
              "2                 0                 7                      3               3   \n",
              "3                 0                 8                      3               3   \n",
              "4                 1                 6                      3               3   \n",
              "\n",
              "   YearsAtCompany  YearsInCurrentRole  YearsSinceLastPromotion  \\\n",
              "0               6                   4                        0   \n",
              "1              10                   7                        1   \n",
              "2               0                   0                        0   \n",
              "3               8                   7                        3   \n",
              "4               2                   2                        2   \n",
              "\n",
              "   YearsWithCurrManager  \n",
              "0                     5  \n",
              "1                     7  \n",
              "2                     0  \n",
              "3                     0  \n",
              "4                     2  \n",
              "\n",
              "[5 rows x 27 columns]"
            ],
            "text/html": [
              "\n",
              "  <div id=\"df-9043eb4a-6e40-48c5-a906-9eee90685e50\" class=\"colab-df-container\">\n",
              "    <div>\n",
              "<style scoped>\n",
              "    .dataframe tbody tr th:only-of-type {\n",
              "        vertical-align: middle;\n",
              "    }\n",
              "\n",
              "    .dataframe tbody tr th {\n",
              "        vertical-align: top;\n",
              "    }\n",
              "\n",
              "    .dataframe thead th {\n",
              "        text-align: right;\n",
              "    }\n",
              "</style>\n",
              "<table border=\"1\" class=\"dataframe\">\n",
              "  <thead>\n",
              "    <tr style=\"text-align: right;\">\n",
              "      <th></th>\n",
              "      <th>Age</th>\n",
              "      <th>Attrition</th>\n",
              "      <th>BusinessTravel</th>\n",
              "      <th>Department</th>\n",
              "      <th>DistanceFromHome</th>\n",
              "      <th>Education</th>\n",
              "      <th>EducationField</th>\n",
              "      <th>EnvironmentSatisfaction</th>\n",
              "      <th>HourlyRate</th>\n",
              "      <th>JobInvolvement</th>\n",
              "      <th>...</th>\n",
              "      <th>PerformanceRating</th>\n",
              "      <th>RelationshipSatisfaction</th>\n",
              "      <th>StockOptionLevel</th>\n",
              "      <th>TotalWorkingYears</th>\n",
              "      <th>TrainingTimesLastYear</th>\n",
              "      <th>WorkLifeBalance</th>\n",
              "      <th>YearsAtCompany</th>\n",
              "      <th>YearsInCurrentRole</th>\n",
              "      <th>YearsSinceLastPromotion</th>\n",
              "      <th>YearsWithCurrManager</th>\n",
              "    </tr>\n",
              "  </thead>\n",
              "  <tbody>\n",
              "    <tr>\n",
              "      <th>0</th>\n",
              "      <td>41</td>\n",
              "      <td>Yes</td>\n",
              "      <td>Travel_Rarely</td>\n",
              "      <td>Sales</td>\n",
              "      <td>1</td>\n",
              "      <td>2</td>\n",
              "      <td>Life Sciences</td>\n",
              "      <td>2</td>\n",
              "      <td>94</td>\n",
              "      <td>3</td>\n",
              "      <td>...</td>\n",
              "      <td>3</td>\n",
              "      <td>1</td>\n",
              "      <td>0</td>\n",
              "      <td>8</td>\n",
              "      <td>0</td>\n",
              "      <td>1</td>\n",
              "      <td>6</td>\n",
              "      <td>4</td>\n",
              "      <td>0</td>\n",
              "      <td>5</td>\n",
              "    </tr>\n",
              "    <tr>\n",
              "      <th>1</th>\n",
              "      <td>49</td>\n",
              "      <td>No</td>\n",
              "      <td>Travel_Frequently</td>\n",
              "      <td>Research &amp; Development</td>\n",
              "      <td>8</td>\n",
              "      <td>1</td>\n",
              "      <td>Life Sciences</td>\n",
              "      <td>3</td>\n",
              "      <td>61</td>\n",
              "      <td>2</td>\n",
              "      <td>...</td>\n",
              "      <td>4</td>\n",
              "      <td>4</td>\n",
              "      <td>1</td>\n",
              "      <td>10</td>\n",
              "      <td>3</td>\n",
              "      <td>3</td>\n",
              "      <td>10</td>\n",
              "      <td>7</td>\n",
              "      <td>1</td>\n",
              "      <td>7</td>\n",
              "    </tr>\n",
              "    <tr>\n",
              "      <th>2</th>\n",
              "      <td>37</td>\n",
              "      <td>Yes</td>\n",
              "      <td>Travel_Rarely</td>\n",
              "      <td>Research &amp; Development</td>\n",
              "      <td>2</td>\n",
              "      <td>2</td>\n",
              "      <td>Other</td>\n",
              "      <td>4</td>\n",
              "      <td>92</td>\n",
              "      <td>2</td>\n",
              "      <td>...</td>\n",
              "      <td>3</td>\n",
              "      <td>2</td>\n",
              "      <td>0</td>\n",
              "      <td>7</td>\n",
              "      <td>3</td>\n",
              "      <td>3</td>\n",
              "      <td>0</td>\n",
              "      <td>0</td>\n",
              "      <td>0</td>\n",
              "      <td>0</td>\n",
              "    </tr>\n",
              "    <tr>\n",
              "      <th>3</th>\n",
              "      <td>33</td>\n",
              "      <td>No</td>\n",
              "      <td>Travel_Frequently</td>\n",
              "      <td>Research &amp; Development</td>\n",
              "      <td>3</td>\n",
              "      <td>4</td>\n",
              "      <td>Life Sciences</td>\n",
              "      <td>4</td>\n",
              "      <td>56</td>\n",
              "      <td>3</td>\n",
              "      <td>...</td>\n",
              "      <td>3</td>\n",
              "      <td>3</td>\n",
              "      <td>0</td>\n",
              "      <td>8</td>\n",
              "      <td>3</td>\n",
              "      <td>3</td>\n",
              "      <td>8</td>\n",
              "      <td>7</td>\n",
              "      <td>3</td>\n",
              "      <td>0</td>\n",
              "    </tr>\n",
              "    <tr>\n",
              "      <th>4</th>\n",
              "      <td>27</td>\n",
              "      <td>No</td>\n",
              "      <td>Travel_Rarely</td>\n",
              "      <td>Research &amp; Development</td>\n",
              "      <td>2</td>\n",
              "      <td>1</td>\n",
              "      <td>Medical</td>\n",
              "      <td>1</td>\n",
              "      <td>40</td>\n",
              "      <td>3</td>\n",
              "      <td>...</td>\n",
              "      <td>3</td>\n",
              "      <td>4</td>\n",
              "      <td>1</td>\n",
              "      <td>6</td>\n",
              "      <td>3</td>\n",
              "      <td>3</td>\n",
              "      <td>2</td>\n",
              "      <td>2</td>\n",
              "      <td>2</td>\n",
              "      <td>2</td>\n",
              "    </tr>\n",
              "  </tbody>\n",
              "</table>\n",
              "<p>5 rows × 27 columns</p>\n",
              "</div>\n",
              "    <div class=\"colab-df-buttons\">\n",
              "\n",
              "  <div class=\"colab-df-container\">\n",
              "    <button class=\"colab-df-convert\" onclick=\"convertToInteractive('df-9043eb4a-6e40-48c5-a906-9eee90685e50')\"\n",
              "            title=\"Convert this dataframe to an interactive table.\"\n",
              "            style=\"display:none;\">\n",
              "\n",
              "  <svg xmlns=\"http://www.w3.org/2000/svg\" height=\"24px\" viewBox=\"0 -960 960 960\">\n",
              "    <path d=\"M120-120v-720h720v720H120Zm60-500h600v-160H180v160Zm220 220h160v-160H400v160Zm0 220h160v-160H400v160ZM180-400h160v-160H180v160Zm440 0h160v-160H620v160ZM180-180h160v-160H180v160Zm440 0h160v-160H620v160Z\"/>\n",
              "  </svg>\n",
              "    </button>\n",
              "\n",
              "  <style>\n",
              "    .colab-df-container {\n",
              "      display:flex;\n",
              "      gap: 12px;\n",
              "    }\n",
              "\n",
              "    .colab-df-convert {\n",
              "      background-color: #E8F0FE;\n",
              "      border: none;\n",
              "      border-radius: 50%;\n",
              "      cursor: pointer;\n",
              "      display: none;\n",
              "      fill: #1967D2;\n",
              "      height: 32px;\n",
              "      padding: 0 0 0 0;\n",
              "      width: 32px;\n",
              "    }\n",
              "\n",
              "    .colab-df-convert:hover {\n",
              "      background-color: #E2EBFA;\n",
              "      box-shadow: 0px 1px 2px rgba(60, 64, 67, 0.3), 0px 1px 3px 1px rgba(60, 64, 67, 0.15);\n",
              "      fill: #174EA6;\n",
              "    }\n",
              "\n",
              "    .colab-df-buttons div {\n",
              "      margin-bottom: 4px;\n",
              "    }\n",
              "\n",
              "    [theme=dark] .colab-df-convert {\n",
              "      background-color: #3B4455;\n",
              "      fill: #D2E3FC;\n",
              "    }\n",
              "\n",
              "    [theme=dark] .colab-df-convert:hover {\n",
              "      background-color: #434B5C;\n",
              "      box-shadow: 0px 1px 3px 1px rgba(0, 0, 0, 0.15);\n",
              "      filter: drop-shadow(0px 1px 2px rgba(0, 0, 0, 0.3));\n",
              "      fill: #FFFFFF;\n",
              "    }\n",
              "  </style>\n",
              "\n",
              "    <script>\n",
              "      const buttonEl =\n",
              "        document.querySelector('#df-9043eb4a-6e40-48c5-a906-9eee90685e50 button.colab-df-convert');\n",
              "      buttonEl.style.display =\n",
              "        google.colab.kernel.accessAllowed ? 'block' : 'none';\n",
              "\n",
              "      async function convertToInteractive(key) {\n",
              "        const element = document.querySelector('#df-9043eb4a-6e40-48c5-a906-9eee90685e50');\n",
              "        const dataTable =\n",
              "          await google.colab.kernel.invokeFunction('convertToInteractive',\n",
              "                                                    [key], {});\n",
              "        if (!dataTable) return;\n",
              "\n",
              "        const docLinkHtml = 'Like what you see? Visit the ' +\n",
              "          '<a target=\"_blank\" href=https://colab.research.google.com/notebooks/data_table.ipynb>data table notebook</a>'\n",
              "          + ' to learn more about interactive tables.';\n",
              "        element.innerHTML = '';\n",
              "        dataTable['output_type'] = 'display_data';\n",
              "        await google.colab.output.renderOutput(dataTable, element);\n",
              "        const docLink = document.createElement('div');\n",
              "        docLink.innerHTML = docLinkHtml;\n",
              "        element.appendChild(docLink);\n",
              "      }\n",
              "    </script>\n",
              "  </div>\n",
              "\n",
              "\n",
              "<div id=\"df-50cdcda3-60d4-4e4b-b7a0-e99dd593fcc9\">\n",
              "  <button class=\"colab-df-quickchart\" onclick=\"quickchart('df-50cdcda3-60d4-4e4b-b7a0-e99dd593fcc9')\"\n",
              "            title=\"Suggest charts\"\n",
              "            style=\"display:none;\">\n",
              "\n",
              "<svg xmlns=\"http://www.w3.org/2000/svg\" height=\"24px\"viewBox=\"0 0 24 24\"\n",
              "     width=\"24px\">\n",
              "    <g>\n",
              "        <path d=\"M19 3H5c-1.1 0-2 .9-2 2v14c0 1.1.9 2 2 2h14c1.1 0 2-.9 2-2V5c0-1.1-.9-2-2-2zM9 17H7v-7h2v7zm4 0h-2V7h2v10zm4 0h-2v-4h2v4z\"/>\n",
              "    </g>\n",
              "</svg>\n",
              "  </button>\n",
              "\n",
              "<style>\n",
              "  .colab-df-quickchart {\n",
              "      --bg-color: #E8F0FE;\n",
              "      --fill-color: #1967D2;\n",
              "      --hover-bg-color: #E2EBFA;\n",
              "      --hover-fill-color: #174EA6;\n",
              "      --disabled-fill-color: #AAA;\n",
              "      --disabled-bg-color: #DDD;\n",
              "  }\n",
              "\n",
              "  [theme=dark] .colab-df-quickchart {\n",
              "      --bg-color: #3B4455;\n",
              "      --fill-color: #D2E3FC;\n",
              "      --hover-bg-color: #434B5C;\n",
              "      --hover-fill-color: #FFFFFF;\n",
              "      --disabled-bg-color: #3B4455;\n",
              "      --disabled-fill-color: #666;\n",
              "  }\n",
              "\n",
              "  .colab-df-quickchart {\n",
              "    background-color: var(--bg-color);\n",
              "    border: none;\n",
              "    border-radius: 50%;\n",
              "    cursor: pointer;\n",
              "    display: none;\n",
              "    fill: var(--fill-color);\n",
              "    height: 32px;\n",
              "    padding: 0;\n",
              "    width: 32px;\n",
              "  }\n",
              "\n",
              "  .colab-df-quickchart:hover {\n",
              "    background-color: var(--hover-bg-color);\n",
              "    box-shadow: 0 1px 2px rgba(60, 64, 67, 0.3), 0 1px 3px 1px rgba(60, 64, 67, 0.15);\n",
              "    fill: var(--button-hover-fill-color);\n",
              "  }\n",
              "\n",
              "  .colab-df-quickchart-complete:disabled,\n",
              "  .colab-df-quickchart-complete:disabled:hover {\n",
              "    background-color: var(--disabled-bg-color);\n",
              "    fill: var(--disabled-fill-color);\n",
              "    box-shadow: none;\n",
              "  }\n",
              "\n",
              "  .colab-df-spinner {\n",
              "    border: 2px solid var(--fill-color);\n",
              "    border-color: transparent;\n",
              "    border-bottom-color: var(--fill-color);\n",
              "    animation:\n",
              "      spin 1s steps(1) infinite;\n",
              "  }\n",
              "\n",
              "  @keyframes spin {\n",
              "    0% {\n",
              "      border-color: transparent;\n",
              "      border-bottom-color: var(--fill-color);\n",
              "      border-left-color: var(--fill-color);\n",
              "    }\n",
              "    20% {\n",
              "      border-color: transparent;\n",
              "      border-left-color: var(--fill-color);\n",
              "      border-top-color: var(--fill-color);\n",
              "    }\n",
              "    30% {\n",
              "      border-color: transparent;\n",
              "      border-left-color: var(--fill-color);\n",
              "      border-top-color: var(--fill-color);\n",
              "      border-right-color: var(--fill-color);\n",
              "    }\n",
              "    40% {\n",
              "      border-color: transparent;\n",
              "      border-right-color: var(--fill-color);\n",
              "      border-top-color: var(--fill-color);\n",
              "    }\n",
              "    60% {\n",
              "      border-color: transparent;\n",
              "      border-right-color: var(--fill-color);\n",
              "    }\n",
              "    80% {\n",
              "      border-color: transparent;\n",
              "      border-right-color: var(--fill-color);\n",
              "      border-bottom-color: var(--fill-color);\n",
              "    }\n",
              "    90% {\n",
              "      border-color: transparent;\n",
              "      border-bottom-color: var(--fill-color);\n",
              "    }\n",
              "  }\n",
              "</style>\n",
              "\n",
              "  <script>\n",
              "    async function quickchart(key) {\n",
              "      const quickchartButtonEl =\n",
              "        document.querySelector('#' + key + ' button');\n",
              "      quickchartButtonEl.disabled = true;  // To prevent multiple clicks.\n",
              "      quickchartButtonEl.classList.add('colab-df-spinner');\n",
              "      try {\n",
              "        const charts = await google.colab.kernel.invokeFunction(\n",
              "            'suggestCharts', [key], {});\n",
              "      } catch (error) {\n",
              "        console.error('Error during call to suggestCharts:', error);\n",
              "      }\n",
              "      quickchartButtonEl.classList.remove('colab-df-spinner');\n",
              "      quickchartButtonEl.classList.add('colab-df-quickchart-complete');\n",
              "    }\n",
              "    (() => {\n",
              "      let quickchartButtonEl =\n",
              "        document.querySelector('#df-50cdcda3-60d4-4e4b-b7a0-e99dd593fcc9 button');\n",
              "      quickchartButtonEl.style.display =\n",
              "        google.colab.kernel.accessAllowed ? 'block' : 'none';\n",
              "    })();\n",
              "  </script>\n",
              "</div>\n",
              "\n",
              "    </div>\n",
              "  </div>\n"
            ],
            "application/vnd.google.colaboratory.intrinsic+json": {
              "type": "dataframe",
              "variable_name": "attrition_df"
            }
          },
          "metadata": {},
          "execution_count": 1
        }
      ],
      "source": [
        "# Import our dependencies\n",
        "from sklearn.model_selection import train_test_split\n",
        "from sklearn.preprocessing import StandardScaler\n",
        "import pandas as pd\n",
        "import numpy as np\n",
        "from tensorflow.keras.models import Model\n",
        "from tensorflow.keras import layers\n",
        "\n",
        "#  Import and read the attrition data\n",
        "attrition_df = pd.read_csv('https://static.bc-edx.com/ai/ail-v-1-0/m19/lms/datasets/attrition.csv')\n",
        "attrition_df.head()"
      ]
    },
    {
      "cell_type": "code",
      "execution_count": 2,
      "metadata": {
        "colab": {
          "base_uri": "https://localhost:8080/"
        },
        "id": "g22aQSY4Gc3Q",
        "outputId": "ee27f7dd-4b12-49eb-88e0-44276bd095de"
      },
      "outputs": [
        {
          "output_type": "stream",
          "name": "stdout",
          "text": [
            "Age                         43\n",
            "Attrition                    2\n",
            "BusinessTravel               3\n",
            "Department                   3\n",
            "DistanceFromHome            29\n",
            "Education                    5\n",
            "EducationField               6\n",
            "EnvironmentSatisfaction      4\n",
            "HourlyRate                  71\n",
            "JobInvolvement               4\n",
            "JobLevel                     5\n",
            "JobRole                      9\n",
            "JobSatisfaction              4\n",
            "MaritalStatus                3\n",
            "NumCompaniesWorked          10\n",
            "OverTime                     2\n",
            "PercentSalaryHike           15\n",
            "PerformanceRating            2\n",
            "RelationshipSatisfaction     4\n",
            "StockOptionLevel             4\n",
            "TotalWorkingYears           40\n",
            "TrainingTimesLastYear        7\n",
            "WorkLifeBalance              4\n",
            "YearsAtCompany              37\n",
            "YearsInCurrentRole          19\n",
            "YearsSinceLastPromotion     16\n",
            "YearsWithCurrManager        18\n",
            "dtype: int64\n"
          ]
        }
      ],
      "source": [
        "# Determine the number of unique values in each column\n",
        "unique_values = attrition_df.nunique()\n",
        "print(unique_values)"
      ]
    },
    {
      "cell_type": "code",
      "execution_count": 3,
      "metadata": {
        "id": "50vMgBEnJbfM",
        "colab": {
          "base_uri": "https://localhost:8080/"
        },
        "outputId": "44d365b9-7b54-42c0-8995-773fa720e01a"
      },
      "outputs": [
        {
          "output_type": "stream",
          "name": "stdout",
          "text": [
            "  Attrition              Department\n",
            "0       Yes                   Sales\n",
            "1        No  Research & Development\n",
            "2       Yes  Research & Development\n",
            "3        No  Research & Development\n",
            "4        No  Research & Development\n"
          ]
        }
      ],
      "source": [
        "# Create y_df with the 'Attrition' and 'Department' columns\n",
        "y_df = attrition_df[['Attrition', 'Department']]\n",
        "print(y_df.head())\n",
        "\n"
      ]
    },
    {
      "cell_type": "code",
      "source": [
        "# Create a list of at least 10 column names to use as X data (excluding 'Attrition' and 'Department')\n",
        "X_columns = ['Age', 'BusinessTravel', 'DistanceFromHome', 'Education', 'EducationField',\n",
        "             'EnvironmentSatisfaction', 'HourlyRate', 'JobInvolvement', 'JobLevel', 'JobRole']\n",
        "print(X_columns)\n"
      ],
      "metadata": {
        "colab": {
          "base_uri": "https://localhost:8080/"
        },
        "id": "QOHJ_xUBwy4O",
        "outputId": "bc83f63c-416c-4da4-a438-aabd5b95164d"
      },
      "execution_count": 4,
      "outputs": [
        {
          "output_type": "stream",
          "name": "stdout",
          "text": [
            "['Age', 'BusinessTravel', 'DistanceFromHome', 'Education', 'EducationField', 'EnvironmentSatisfaction', 'HourlyRate', 'JobInvolvement', 'JobLevel', 'JobRole']\n"
          ]
        }
      ]
    },
    {
      "cell_type": "code",
      "source": [
        "# Create X_df using the selected columns\n",
        "X_df = attrition_df[X_columns]\n",
        "X_df.head()\n",
        "\n",
        "# Show the data types for X_df\n",
        "X_df.dtypes"
      ],
      "metadata": {
        "colab": {
          "base_uri": "https://localhost:8080/",
          "height": 398
        },
        "id": "Trgg3nJAxDES",
        "outputId": "80da11bd-6cbb-46e9-84b2-3822dbc5c817"
      },
      "execution_count": 6,
      "outputs": [
        {
          "output_type": "execute_result",
          "data": {
            "text/plain": [
              "Age                         int64\n",
              "BusinessTravel             object\n",
              "DistanceFromHome            int64\n",
              "Education                   int64\n",
              "EducationField             object\n",
              "EnvironmentSatisfaction     int64\n",
              "HourlyRate                  int64\n",
              "JobInvolvement              int64\n",
              "JobLevel                    int64\n",
              "JobRole                    object\n",
              "dtype: object"
            ],
            "text/html": [
              "<div>\n",
              "<style scoped>\n",
              "    .dataframe tbody tr th:only-of-type {\n",
              "        vertical-align: middle;\n",
              "    }\n",
              "\n",
              "    .dataframe tbody tr th {\n",
              "        vertical-align: top;\n",
              "    }\n",
              "\n",
              "    .dataframe thead th {\n",
              "        text-align: right;\n",
              "    }\n",
              "</style>\n",
              "<table border=\"1\" class=\"dataframe\">\n",
              "  <thead>\n",
              "    <tr style=\"text-align: right;\">\n",
              "      <th></th>\n",
              "      <th>0</th>\n",
              "    </tr>\n",
              "  </thead>\n",
              "  <tbody>\n",
              "    <tr>\n",
              "      <th>Age</th>\n",
              "      <td>int64</td>\n",
              "    </tr>\n",
              "    <tr>\n",
              "      <th>BusinessTravel</th>\n",
              "      <td>object</td>\n",
              "    </tr>\n",
              "    <tr>\n",
              "      <th>DistanceFromHome</th>\n",
              "      <td>int64</td>\n",
              "    </tr>\n",
              "    <tr>\n",
              "      <th>Education</th>\n",
              "      <td>int64</td>\n",
              "    </tr>\n",
              "    <tr>\n",
              "      <th>EducationField</th>\n",
              "      <td>object</td>\n",
              "    </tr>\n",
              "    <tr>\n",
              "      <th>EnvironmentSatisfaction</th>\n",
              "      <td>int64</td>\n",
              "    </tr>\n",
              "    <tr>\n",
              "      <th>HourlyRate</th>\n",
              "      <td>int64</td>\n",
              "    </tr>\n",
              "    <tr>\n",
              "      <th>JobInvolvement</th>\n",
              "      <td>int64</td>\n",
              "    </tr>\n",
              "    <tr>\n",
              "      <th>JobLevel</th>\n",
              "      <td>int64</td>\n",
              "    </tr>\n",
              "    <tr>\n",
              "      <th>JobRole</th>\n",
              "      <td>object</td>\n",
              "    </tr>\n",
              "  </tbody>\n",
              "</table>\n",
              "</div><br><label><b>dtype:</b> object</label>"
            ]
          },
          "metadata": {},
          "execution_count": 6
        }
      ]
    },
    {
      "cell_type": "code",
      "source": [
        "# Split the data into training and testing sets\n",
        "X_train, X_test, y_train, y_test = train_test_split(X_df, y_df, test_size=0.2, random_state=42)\n",
        "\n",
        "# Verify the split by checking the shapes of the splits\n",
        "print(f\"X_train shape: {X_train.shape}\")\n",
        "print(f\"X_test shape: {X_test.shape}\")\n",
        "print(f\"y_train shape: {y_train.shape}\")\n",
        "print(f\"y_test shape: {y_test.shape}\")\n"
      ],
      "metadata": {
        "colab": {
          "base_uri": "https://localhost:8080/"
        },
        "id": "-dG3kSMeyB3F",
        "outputId": "cef8de5b-9496-4e83-aed7-fa3c324d9f4c"
      },
      "execution_count": 7,
      "outputs": [
        {
          "output_type": "stream",
          "name": "stdout",
          "text": [
            "X_train shape: (1176, 10)\n",
            "X_test shape: (294, 10)\n",
            "y_train shape: (1176, 2)\n",
            "y_test shape: (294, 2)\n"
          ]
        }
      ]
    },
    {
      "cell_type": "code",
      "source": [
        "# Combine X_train and X_test temporarily to keep columns consistent after encoding\n",
        "X_combined = pd.concat([X_train, X_test])\n",
        "\n",
        "# Perform one-hot encoding\n",
        "X_encoded = pd.get_dummies(X_combined)\n",
        "\n",
        "# Split them back into training and testing sets\n",
        "X_train_encoded = X_encoded[:len(X_train)]\n",
        "X_test_encoded = X_encoded[len(X_train):]\n",
        "\n",
        "# Check the shapes to confirm\n",
        "print(f\"X_train_encoded shape: {X_train_encoded.shape}\")\n",
        "print(f\"X_test_encoded shape: {X_test_encoded.shape}\")\n"
      ],
      "metadata": {
        "colab": {
          "base_uri": "https://localhost:8080/"
        },
        "id": "iMPZBxkpyVMn",
        "outputId": "dd9992fa-9549-408f-fe45-22461d04f14d"
      },
      "execution_count": 8,
      "outputs": [
        {
          "output_type": "stream",
          "name": "stdout",
          "text": [
            "X_train_encoded shape: (1176, 25)\n",
            "X_test_encoded shape: (294, 25)\n"
          ]
        }
      ]
    },
    {
      "cell_type": "code",
      "source": [
        "# Create the StandardScaler instance\n",
        "scaler = StandardScaler()\n",
        "\n",
        "# Fit the scaler to the training data\n",
        "X_train_scaled = scaler.fit_transform(X_train_encoded)\n",
        "\n",
        "# Transform the testing data\n",
        "X_test_scaled = scaler.transform(X_test_encoded)\n",
        "\n",
        "# Confirm shapes\n",
        "print(f\"X_train_scaled shape: {X_train_scaled.shape}\")\n",
        "print(f\"X_test_scaled shape: {X_test_scaled.shape}\")\n"
      ],
      "metadata": {
        "colab": {
          "base_uri": "https://localhost:8080/"
        },
        "id": "U-JQz4qZybRh",
        "outputId": "2e982eb5-21ee-4039-9fa5-60b778f7743a"
      },
      "execution_count": 9,
      "outputs": [
        {
          "output_type": "stream",
          "name": "stdout",
          "text": [
            "X_train_scaled shape: (1176, 25)\n",
            "X_test_scaled shape: (294, 25)\n"
          ]
        }
      ]
    },
    {
      "cell_type": "code",
      "source": [
        "from sklearn.preprocessing import OneHotEncoder\n",
        "\n",
        "# Create the encoder\n",
        "department_encoder = OneHotEncoder(sparse_output=False)\n",
        "\n",
        "# Fit and transform the training data\n",
        "y_train_department = department_encoder.fit_transform(y_train[['Department']])\n",
        "\n",
        "# Transform the testing data\n",
        "y_test_department = department_encoder.transform(y_test[['Department']])\n",
        "\n",
        "# Confirm the shapes\n",
        "print(f\"y_train_department shape: {y_train_department.shape}\")\n",
        "print(f\"y_test_department shape: {y_test_department.shape}\")\n"
      ],
      "metadata": {
        "colab": {
          "base_uri": "https://localhost:8080/"
        },
        "id": "qPCbbTvRyrMZ",
        "outputId": "d7f217ec-9c17-4bbd-aa92-a58c3aa3f5d2"
      },
      "execution_count": 11,
      "outputs": [
        {
          "output_type": "stream",
          "name": "stdout",
          "text": [
            "y_train_department shape: (1176, 3)\n",
            "y_test_department shape: (294, 3)\n"
          ]
        }
      ]
    },
    {
      "cell_type": "code",
      "source": [
        "# Create the encoder\n",
        "attrition_encoder = OneHotEncoder(sparse_output=False)\n",
        "\n",
        "# Fit and transform the training data\n",
        "y_train_attrition = attrition_encoder.fit_transform(y_train[['Attrition']])\n",
        "\n",
        "# Transform the testing data\n",
        "y_test_attrition = attrition_encoder.transform(y_test[['Attrition']])\n",
        "\n",
        "# Confirm the shapes\n",
        "print(f\"y_train_attrition shape: {y_train_attrition.shape}\")\n",
        "print(f\"y_test_attrition shape: {y_test_attrition.shape}\")\n"
      ],
      "metadata": {
        "colab": {
          "base_uri": "https://localhost:8080/"
        },
        "id": "AVfaJS-RzEaa",
        "outputId": "9750d9e2-4c7f-409e-8751-2ff355255594"
      },
      "execution_count": 12,
      "outputs": [
        {
          "output_type": "stream",
          "name": "stdout",
          "text": [
            "y_train_attrition shape: (1176, 2)\n",
            "y_test_attrition shape: (294, 2)\n"
          ]
        }
      ]
    },
    {
      "cell_type": "markdown",
      "metadata": {
        "id": "ykNmu_WWGc3T"
      },
      "source": [
        "## Part 2: Create, Compile, and Train the Model"
      ]
    },
    {
      "cell_type": "code",
      "source": [
        "from tensorflow.keras.models import Sequential\n",
        "from tensorflow.keras.layers import Dense, Input"
      ],
      "metadata": {
        "id": "tlxaqBtSzYeF"
      },
      "execution_count": 13,
      "outputs": []
    },
    {
      "cell_type": "code",
      "source": [
        "# Get the number of input features\n",
        "num_columns = X_train_scaled.shape[1]\n",
        "print(f\"Number of input features: {num_columns}\")\n"
      ],
      "metadata": {
        "colab": {
          "base_uri": "https://localhost:8080/"
        },
        "id": "N-jexNUazaNl",
        "outputId": "37f06ab2-b569-4930-c064-bc9a4740f1d4"
      },
      "execution_count": 14,
      "outputs": [
        {
          "output_type": "stream",
          "name": "stdout",
          "text": [
            "Number of input features: 25\n"
          ]
        }
      ]
    },
    {
      "cell_type": "code",
      "source": [
        "# Create the input layer\n",
        "input_layer = layers.Input(shape=(num_columns,))\n"
      ],
      "metadata": {
        "id": "J8v1sw-szjfJ"
      },
      "execution_count": 15,
      "outputs": []
    },
    {
      "cell_type": "code",
      "source": [
        "# First shared layer\n",
        "shared_layer_1 = layers.Dense(units=64, activation=\"relu\")(input_layer)\n",
        "\n",
        "# Second shared layer\n",
        "shared_layer_2 = layers.Dense(units=32, activation=\"relu\")(shared_layer_1)\n"
      ],
      "metadata": {
        "id": "cVRlvN5czp4k"
      },
      "execution_count": 16,
      "outputs": []
    },
    {
      "cell_type": "code",
      "source": [
        "# Hidden layer for department branch\n",
        "department_branch = layers.Dense(units=16, activation=\"relu\")(shared_layer_2)\n",
        "\n",
        "# Output layer for department branch\n",
        "department_output = layers.Dense(units=3, activation=\"softmax\", name=\"department_output\")(department_branch)\n"
      ],
      "metadata": {
        "id": "rpdNn8yBzxav"
      },
      "execution_count": 17,
      "outputs": []
    },
    {
      "cell_type": "code",
      "source": [
        "# Hidden layer for attrition branch\n",
        "attrition_branch = layers.Dense(units=16, activation=\"relu\")(shared_layer_2)\n",
        "\n",
        "# Output layer for attrition branch\n",
        "attrition_output = layers.Dense(units=2, activation=\"softmax\", name=\"attrition_output\")(attrition_branch)\n"
      ],
      "metadata": {
        "id": "snJ9pijhzxCQ"
      },
      "execution_count": 18,
      "outputs": []
    },
    {
      "cell_type": "code",
      "source": [
        "# Define the model\n",
        "model = Model(inputs=input_layer, outputs=[department_output, attrition_output])\n"
      ],
      "metadata": {
        "id": "W3zQytCUzwz1"
      },
      "execution_count": 19,
      "outputs": []
    },
    {
      "cell_type": "code",
      "source": [
        "# Compile the model\n",
        "model.compile(optimizer='adam',\n",
        "              loss={'department_output': 'categorical_crossentropy', 'attrition_output': 'categorical_crossentropy'},\n",
        "              metrics={'department_output': 'accuracy', 'attrition_output': 'accuracy'})\n"
      ],
      "metadata": {
        "id": "HUQPx4oCz9JR"
      },
      "execution_count": 20,
      "outputs": []
    },
    {
      "cell_type": "code",
      "source": [
        "# Summarize the model\n",
        "model.summary()\n"
      ],
      "metadata": {
        "colab": {
          "base_uri": "https://localhost:8080/",
          "height": 442
        },
        "id": "vPav79ih0gMg",
        "outputId": "e6aedf82-f427-491b-aa19-331531b45c80"
      },
      "execution_count": 22,
      "outputs": [
        {
          "output_type": "display_data",
          "data": {
            "text/plain": [
              "\u001b[1mModel: \"functional\"\u001b[0m\n"
            ],
            "text/html": [
              "<pre style=\"white-space:pre;overflow-x:auto;line-height:normal;font-family:Menlo,'DejaVu Sans Mono',consolas,'Courier New',monospace\"><span style=\"font-weight: bold\">Model: \"functional\"</span>\n",
              "</pre>\n"
            ]
          },
          "metadata": {}
        },
        {
          "output_type": "display_data",
          "data": {
            "text/plain": [
              "┏━━━━━━━━━━━━━━━━━━━━━┳━━━━━━━━━━━━━━━━━━━┳━━━━━━━━━━━━┳━━━━━━━━━━━━━━━━━━━┓\n",
              "┃\u001b[1m \u001b[0m\u001b[1mLayer (type)       \u001b[0m\u001b[1m \u001b[0m┃\u001b[1m \u001b[0m\u001b[1mOutput Shape     \u001b[0m\u001b[1m \u001b[0m┃\u001b[1m \u001b[0m\u001b[1m   Param #\u001b[0m\u001b[1m \u001b[0m┃\u001b[1m \u001b[0m\u001b[1mConnected to     \u001b[0m\u001b[1m \u001b[0m┃\n",
              "┡━━━━━━━━━━━━━━━━━━━━━╇━━━━━━━━━━━━━━━━━━━╇━━━━━━━━━━━━╇━━━━━━━━━━━━━━━━━━━┩\n",
              "│ input_layer         │ (\u001b[38;5;45mNone\u001b[0m, \u001b[38;5;34m25\u001b[0m)        │          \u001b[38;5;34m0\u001b[0m │ -                 │\n",
              "│ (\u001b[38;5;33mInputLayer\u001b[0m)        │                   │            │                   │\n",
              "├─────────────────────┼───────────────────┼────────────┼───────────────────┤\n",
              "│ dense (\u001b[38;5;33mDense\u001b[0m)       │ (\u001b[38;5;45mNone\u001b[0m, \u001b[38;5;34m64\u001b[0m)        │      \u001b[38;5;34m1,664\u001b[0m │ input_layer[\u001b[38;5;34m0\u001b[0m][\u001b[38;5;34m0\u001b[0m] │\n",
              "├─────────────────────┼───────────────────┼────────────┼───────────────────┤\n",
              "│ dense_1 (\u001b[38;5;33mDense\u001b[0m)     │ (\u001b[38;5;45mNone\u001b[0m, \u001b[38;5;34m32\u001b[0m)        │      \u001b[38;5;34m2,080\u001b[0m │ dense[\u001b[38;5;34m0\u001b[0m][\u001b[38;5;34m0\u001b[0m]       │\n",
              "├─────────────────────┼───────────────────┼────────────┼───────────────────┤\n",
              "│ dense_2 (\u001b[38;5;33mDense\u001b[0m)     │ (\u001b[38;5;45mNone\u001b[0m, \u001b[38;5;34m16\u001b[0m)        │        \u001b[38;5;34m528\u001b[0m │ dense_1[\u001b[38;5;34m0\u001b[0m][\u001b[38;5;34m0\u001b[0m]     │\n",
              "├─────────────────────┼───────────────────┼────────────┼───────────────────┤\n",
              "│ dense_3 (\u001b[38;5;33mDense\u001b[0m)     │ (\u001b[38;5;45mNone\u001b[0m, \u001b[38;5;34m16\u001b[0m)        │        \u001b[38;5;34m528\u001b[0m │ dense_1[\u001b[38;5;34m0\u001b[0m][\u001b[38;5;34m0\u001b[0m]     │\n",
              "├─────────────────────┼───────────────────┼────────────┼───────────────────┤\n",
              "│ department_output   │ (\u001b[38;5;45mNone\u001b[0m, \u001b[38;5;34m3\u001b[0m)         │         \u001b[38;5;34m51\u001b[0m │ dense_2[\u001b[38;5;34m0\u001b[0m][\u001b[38;5;34m0\u001b[0m]     │\n",
              "│ (\u001b[38;5;33mDense\u001b[0m)             │                   │            │                   │\n",
              "├─────────────────────┼───────────────────┼────────────┼───────────────────┤\n",
              "│ attrition_output    │ (\u001b[38;5;45mNone\u001b[0m, \u001b[38;5;34m2\u001b[0m)         │         \u001b[38;5;34m34\u001b[0m │ dense_3[\u001b[38;5;34m0\u001b[0m][\u001b[38;5;34m0\u001b[0m]     │\n",
              "│ (\u001b[38;5;33mDense\u001b[0m)             │                   │            │                   │\n",
              "└─────────────────────┴───────────────────┴────────────┴───────────────────┘\n"
            ],
            "text/html": [
              "<pre style=\"white-space:pre;overflow-x:auto;line-height:normal;font-family:Menlo,'DejaVu Sans Mono',consolas,'Courier New',monospace\">┏━━━━━━━━━━━━━━━━━━━━━┳━━━━━━━━━━━━━━━━━━━┳━━━━━━━━━━━━┳━━━━━━━━━━━━━━━━━━━┓\n",
              "┃<span style=\"font-weight: bold\"> Layer (type)        </span>┃<span style=\"font-weight: bold\"> Output Shape      </span>┃<span style=\"font-weight: bold\">    Param # </span>┃<span style=\"font-weight: bold\"> Connected to      </span>┃\n",
              "┡━━━━━━━━━━━━━━━━━━━━━╇━━━━━━━━━━━━━━━━━━━╇━━━━━━━━━━━━╇━━━━━━━━━━━━━━━━━━━┩\n",
              "│ input_layer         │ (<span style=\"color: #00d7ff; text-decoration-color: #00d7ff\">None</span>, <span style=\"color: #00af00; text-decoration-color: #00af00\">25</span>)        │          <span style=\"color: #00af00; text-decoration-color: #00af00\">0</span> │ -                 │\n",
              "│ (<span style=\"color: #0087ff; text-decoration-color: #0087ff\">InputLayer</span>)        │                   │            │                   │\n",
              "├─────────────────────┼───────────────────┼────────────┼───────────────────┤\n",
              "│ dense (<span style=\"color: #0087ff; text-decoration-color: #0087ff\">Dense</span>)       │ (<span style=\"color: #00d7ff; text-decoration-color: #00d7ff\">None</span>, <span style=\"color: #00af00; text-decoration-color: #00af00\">64</span>)        │      <span style=\"color: #00af00; text-decoration-color: #00af00\">1,664</span> │ input_layer[<span style=\"color: #00af00; text-decoration-color: #00af00\">0</span>][<span style=\"color: #00af00; text-decoration-color: #00af00\">0</span>] │\n",
              "├─────────────────────┼───────────────────┼────────────┼───────────────────┤\n",
              "│ dense_1 (<span style=\"color: #0087ff; text-decoration-color: #0087ff\">Dense</span>)     │ (<span style=\"color: #00d7ff; text-decoration-color: #00d7ff\">None</span>, <span style=\"color: #00af00; text-decoration-color: #00af00\">32</span>)        │      <span style=\"color: #00af00; text-decoration-color: #00af00\">2,080</span> │ dense[<span style=\"color: #00af00; text-decoration-color: #00af00\">0</span>][<span style=\"color: #00af00; text-decoration-color: #00af00\">0</span>]       │\n",
              "├─────────────────────┼───────────────────┼────────────┼───────────────────┤\n",
              "│ dense_2 (<span style=\"color: #0087ff; text-decoration-color: #0087ff\">Dense</span>)     │ (<span style=\"color: #00d7ff; text-decoration-color: #00d7ff\">None</span>, <span style=\"color: #00af00; text-decoration-color: #00af00\">16</span>)        │        <span style=\"color: #00af00; text-decoration-color: #00af00\">528</span> │ dense_1[<span style=\"color: #00af00; text-decoration-color: #00af00\">0</span>][<span style=\"color: #00af00; text-decoration-color: #00af00\">0</span>]     │\n",
              "├─────────────────────┼───────────────────┼────────────┼───────────────────┤\n",
              "│ dense_3 (<span style=\"color: #0087ff; text-decoration-color: #0087ff\">Dense</span>)     │ (<span style=\"color: #00d7ff; text-decoration-color: #00d7ff\">None</span>, <span style=\"color: #00af00; text-decoration-color: #00af00\">16</span>)        │        <span style=\"color: #00af00; text-decoration-color: #00af00\">528</span> │ dense_1[<span style=\"color: #00af00; text-decoration-color: #00af00\">0</span>][<span style=\"color: #00af00; text-decoration-color: #00af00\">0</span>]     │\n",
              "├─────────────────────┼───────────────────┼────────────┼───────────────────┤\n",
              "│ department_output   │ (<span style=\"color: #00d7ff; text-decoration-color: #00d7ff\">None</span>, <span style=\"color: #00af00; text-decoration-color: #00af00\">3</span>)         │         <span style=\"color: #00af00; text-decoration-color: #00af00\">51</span> │ dense_2[<span style=\"color: #00af00; text-decoration-color: #00af00\">0</span>][<span style=\"color: #00af00; text-decoration-color: #00af00\">0</span>]     │\n",
              "│ (<span style=\"color: #0087ff; text-decoration-color: #0087ff\">Dense</span>)             │                   │            │                   │\n",
              "├─────────────────────┼───────────────────┼────────────┼───────────────────┤\n",
              "│ attrition_output    │ (<span style=\"color: #00d7ff; text-decoration-color: #00d7ff\">None</span>, <span style=\"color: #00af00; text-decoration-color: #00af00\">2</span>)         │         <span style=\"color: #00af00; text-decoration-color: #00af00\">34</span> │ dense_3[<span style=\"color: #00af00; text-decoration-color: #00af00\">0</span>][<span style=\"color: #00af00; text-decoration-color: #00af00\">0</span>]     │\n",
              "│ (<span style=\"color: #0087ff; text-decoration-color: #0087ff\">Dense</span>)             │                   │            │                   │\n",
              "└─────────────────────┴───────────────────┴────────────┴───────────────────┘\n",
              "</pre>\n"
            ]
          },
          "metadata": {}
        },
        {
          "output_type": "display_data",
          "data": {
            "text/plain": [
              "\u001b[1m Total params: \u001b[0m\u001b[38;5;34m14,657\u001b[0m (57.26 KB)\n"
            ],
            "text/html": [
              "<pre style=\"white-space:pre;overflow-x:auto;line-height:normal;font-family:Menlo,'DejaVu Sans Mono',consolas,'Courier New',monospace\"><span style=\"font-weight: bold\"> Total params: </span><span style=\"color: #00af00; text-decoration-color: #00af00\">14,657</span> (57.26 KB)\n",
              "</pre>\n"
            ]
          },
          "metadata": {}
        },
        {
          "output_type": "display_data",
          "data": {
            "text/plain": [
              "\u001b[1m Trainable params: \u001b[0m\u001b[38;5;34m4,885\u001b[0m (19.08 KB)\n"
            ],
            "text/html": [
              "<pre style=\"white-space:pre;overflow-x:auto;line-height:normal;font-family:Menlo,'DejaVu Sans Mono',consolas,'Courier New',monospace\"><span style=\"font-weight: bold\"> Trainable params: </span><span style=\"color: #00af00; text-decoration-color: #00af00\">4,885</span> (19.08 KB)\n",
              "</pre>\n"
            ]
          },
          "metadata": {}
        },
        {
          "output_type": "display_data",
          "data": {
            "text/plain": [
              "\u001b[1m Non-trainable params: \u001b[0m\u001b[38;5;34m0\u001b[0m (0.00 B)\n"
            ],
            "text/html": [
              "<pre style=\"white-space:pre;overflow-x:auto;line-height:normal;font-family:Menlo,'DejaVu Sans Mono',consolas,'Courier New',monospace\"><span style=\"font-weight: bold\"> Non-trainable params: </span><span style=\"color: #00af00; text-decoration-color: #00af00\">0</span> (0.00 B)\n",
              "</pre>\n"
            ]
          },
          "metadata": {}
        },
        {
          "output_type": "display_data",
          "data": {
            "text/plain": [
              "\u001b[1m Optimizer params: \u001b[0m\u001b[38;5;34m9,772\u001b[0m (38.18 KB)\n"
            ],
            "text/html": [
              "<pre style=\"white-space:pre;overflow-x:auto;line-height:normal;font-family:Menlo,'DejaVu Sans Mono',consolas,'Courier New',monospace\"><span style=\"font-weight: bold\"> Optimizer params: </span><span style=\"color: #00af00; text-decoration-color: #00af00\">9,772</span> (38.18 KB)\n",
              "</pre>\n"
            ]
          },
          "metadata": {}
        }
      ]
    },
    {
      "cell_type": "code",
      "source": [
        "# Train the model\n",
        "history = model.fit(X_train_scaled,\n",
        "                    {'department_output': y_train_department, 'attrition_output': y_train_attrition},\n",
        "                    epochs=100,\n",
        "                    batch_size=32,\n",
        "                    validation_split=0.2)\n"
      ],
      "metadata": {
        "colab": {
          "base_uri": "https://localhost:8080/"
        },
        "id": "-QmInDKPz9AE",
        "outputId": "a285ef32-7c32-4fe3-fc2e-5f2021146cdd"
      },
      "execution_count": 23,
      "outputs": [
        {
          "output_type": "stream",
          "name": "stdout",
          "text": [
            "Epoch 1/100\n",
            "\u001b[1m30/30\u001b[0m \u001b[32m━━━━━━━━━━━━━━━━━━━━\u001b[0m\u001b[37m\u001b[0m \u001b[1m0s\u001b[0m 9ms/step - attrition_output_accuracy: 0.8542 - attrition_output_loss: 0.3434 - department_output_accuracy: 0.9894 - department_output_loss: 0.0294 - loss: 0.3729 - val_attrition_output_accuracy: 0.7966 - val_attrition_output_loss: 0.4936 - val_department_output_accuracy: 0.9661 - val_department_output_loss: 0.0659 - val_loss: 0.5804\n",
            "Epoch 2/100\n",
            "\u001b[1m30/30\u001b[0m \u001b[32m━━━━━━━━━━━━━━━━━━━━\u001b[0m\u001b[37m\u001b[0m \u001b[1m0s\u001b[0m 6ms/step - attrition_output_accuracy: 0.8456 - attrition_output_loss: 0.3422 - department_output_accuracy: 0.9907 - department_output_loss: 0.0288 - loss: 0.3707 - val_attrition_output_accuracy: 0.7924 - val_attrition_output_loss: 0.5092 - val_department_output_accuracy: 0.9619 - val_department_output_loss: 0.0846 - val_loss: 0.6227\n",
            "Epoch 3/100\n",
            "\u001b[1m30/30\u001b[0m \u001b[32m━━━━━━━━━━━━━━━━━━━━\u001b[0m\u001b[37m\u001b[0m \u001b[1m0s\u001b[0m 7ms/step - attrition_output_accuracy: 0.8525 - attrition_output_loss: 0.3221 - department_output_accuracy: 0.9925 - department_output_loss: 0.0256 - loss: 0.3477 - val_attrition_output_accuracy: 0.7924 - val_attrition_output_loss: 0.5264 - val_department_output_accuracy: 0.9576 - val_department_output_loss: 0.0798 - val_loss: 0.6341\n",
            "Epoch 4/100\n",
            "\u001b[1m30/30\u001b[0m \u001b[32m━━━━━━━━━━━━━━━━━━━━\u001b[0m\u001b[37m\u001b[0m \u001b[1m0s\u001b[0m 6ms/step - attrition_output_accuracy: 0.8722 - attrition_output_loss: 0.3083 - department_output_accuracy: 0.9912 - department_output_loss: 0.0256 - loss: 0.3339 - val_attrition_output_accuracy: 0.8051 - val_attrition_output_loss: 0.5136 - val_department_output_accuracy: 0.9703 - val_department_output_loss: 0.0708 - val_loss: 0.6098\n",
            "Epoch 5/100\n",
            "\u001b[1m30/30\u001b[0m \u001b[32m━━━━━━━━━━━━━━━━━━━━\u001b[0m\u001b[37m\u001b[0m \u001b[1m0s\u001b[0m 6ms/step - attrition_output_accuracy: 0.8769 - attrition_output_loss: 0.3132 - department_output_accuracy: 0.9941 - department_output_loss: 0.0215 - loss: 0.3343 - val_attrition_output_accuracy: 0.7881 - val_attrition_output_loss: 0.5206 - val_department_output_accuracy: 0.9534 - val_department_output_loss: 0.0842 - val_loss: 0.6345\n",
            "Epoch 6/100\n",
            "\u001b[1m30/30\u001b[0m \u001b[32m━━━━━━━━━━━━━━━━━━━━\u001b[0m\u001b[37m\u001b[0m \u001b[1m0s\u001b[0m 6ms/step - attrition_output_accuracy: 0.8801 - attrition_output_loss: 0.3040 - department_output_accuracy: 0.9933 - department_output_loss: 0.0231 - loss: 0.3271 - val_attrition_output_accuracy: 0.7881 - val_attrition_output_loss: 0.5280 - val_department_output_accuracy: 0.9661 - val_department_output_loss: 0.0766 - val_loss: 0.6331\n",
            "Epoch 7/100\n",
            "\u001b[1m30/30\u001b[0m \u001b[32m━━━━━━━━━━━━━━━━━━━━\u001b[0m\u001b[37m\u001b[0m \u001b[1m0s\u001b[0m 6ms/step - attrition_output_accuracy: 0.8766 - attrition_output_loss: 0.3115 - department_output_accuracy: 0.9962 - department_output_loss: 0.0168 - loss: 0.3282 - val_attrition_output_accuracy: 0.7881 - val_attrition_output_loss: 0.5376 - val_department_output_accuracy: 0.9576 - val_department_output_loss: 0.0791 - val_loss: 0.6473\n",
            "Epoch 8/100\n",
            "\u001b[1m30/30\u001b[0m \u001b[32m━━━━━━━━━━━━━━━━━━━━\u001b[0m\u001b[37m\u001b[0m \u001b[1m0s\u001b[0m 6ms/step - attrition_output_accuracy: 0.8783 - attrition_output_loss: 0.2863 - department_output_accuracy: 0.9980 - department_output_loss: 0.0185 - loss: 0.3047 - val_attrition_output_accuracy: 0.7881 - val_attrition_output_loss: 0.5675 - val_department_output_accuracy: 0.9661 - val_department_output_loss: 0.0738 - val_loss: 0.6728\n",
            "Epoch 9/100\n",
            "\u001b[1m30/30\u001b[0m \u001b[32m━━━━━━━━━━━━━━━━━━━━\u001b[0m\u001b[37m\u001b[0m \u001b[1m0s\u001b[0m 7ms/step - attrition_output_accuracy: 0.8667 - attrition_output_loss: 0.2938 - department_output_accuracy: 0.9949 - department_output_loss: 0.0202 - loss: 0.3138 - val_attrition_output_accuracy: 0.7839 - val_attrition_output_loss: 0.5961 - val_department_output_accuracy: 0.9619 - val_department_output_loss: 0.0882 - val_loss: 0.7198\n",
            "Epoch 10/100\n",
            "\u001b[1m30/30\u001b[0m \u001b[32m━━━━━━━━━━━━━━━━━━━━\u001b[0m\u001b[37m\u001b[0m \u001b[1m0s\u001b[0m 6ms/step - attrition_output_accuracy: 0.8755 - attrition_output_loss: 0.2729 - department_output_accuracy: 0.9938 - department_output_loss: 0.0209 - loss: 0.2940 - val_attrition_output_accuracy: 0.7797 - val_attrition_output_loss: 0.5764 - val_department_output_accuracy: 0.9576 - val_department_output_loss: 0.0859 - val_loss: 0.6974\n",
            "Epoch 11/100\n",
            "\u001b[1m30/30\u001b[0m \u001b[32m━━━━━━━━━━━━━━━━━━━━\u001b[0m\u001b[37m\u001b[0m \u001b[1m0s\u001b[0m 6ms/step - attrition_output_accuracy: 0.8833 - attrition_output_loss: 0.2624 - department_output_accuracy: 0.9956 - department_output_loss: 0.0170 - loss: 0.2794 - val_attrition_output_accuracy: 0.7712 - val_attrition_output_loss: 0.5810 - val_department_output_accuracy: 0.9576 - val_department_output_loss: 0.0921 - val_loss: 0.7077\n",
            "Epoch 12/100\n",
            "\u001b[1m30/30\u001b[0m \u001b[32m━━━━━━━━━━━━━━━━━━━━\u001b[0m\u001b[37m\u001b[0m \u001b[1m0s\u001b[0m 6ms/step - attrition_output_accuracy: 0.8833 - attrition_output_loss: 0.2877 - department_output_accuracy: 0.9918 - department_output_loss: 0.0194 - loss: 0.3072 - val_attrition_output_accuracy: 0.7881 - val_attrition_output_loss: 0.5904 - val_department_output_accuracy: 0.9703 - val_department_output_loss: 0.0689 - val_loss: 0.6896\n",
            "Epoch 13/100\n",
            "\u001b[1m30/30\u001b[0m \u001b[32m━━━━━━━━━━━━━━━━━━━━\u001b[0m\u001b[37m\u001b[0m \u001b[1m0s\u001b[0m 7ms/step - attrition_output_accuracy: 0.8901 - attrition_output_loss: 0.2479 - department_output_accuracy: 0.9931 - department_output_loss: 0.0155 - loss: 0.2635 - val_attrition_output_accuracy: 0.7712 - val_attrition_output_loss: 0.5850 - val_department_output_accuracy: 0.9661 - val_department_output_loss: 0.0897 - val_loss: 0.7098\n",
            "Epoch 14/100\n",
            "\u001b[1m30/30\u001b[0m \u001b[32m━━━━━━━━━━━━━━━━━━━━\u001b[0m\u001b[37m\u001b[0m \u001b[1m0s\u001b[0m 6ms/step - attrition_output_accuracy: 0.9026 - attrition_output_loss: 0.2459 - department_output_accuracy: 0.9972 - department_output_loss: 0.0131 - loss: 0.2587 - val_attrition_output_accuracy: 0.7754 - val_attrition_output_loss: 0.5884 - val_department_output_accuracy: 0.9661 - val_department_output_loss: 0.0781 - val_loss: 0.7009\n",
            "Epoch 15/100\n",
            "\u001b[1m30/30\u001b[0m \u001b[32m━━━━━━━━━━━━━━━━━━━━\u001b[0m\u001b[37m\u001b[0m \u001b[1m0s\u001b[0m 7ms/step - attrition_output_accuracy: 0.8850 - attrition_output_loss: 0.2618 - department_output_accuracy: 0.9984 - department_output_loss: 0.0111 - loss: 0.2726 - val_attrition_output_accuracy: 0.7839 - val_attrition_output_loss: 0.6093 - val_department_output_accuracy: 0.9619 - val_department_output_loss: 0.0939 - val_loss: 0.7416\n",
            "Epoch 16/100\n",
            "\u001b[1m30/30\u001b[0m \u001b[32m━━━━━━━━━━━━━━━━━━━━\u001b[0m\u001b[37m\u001b[0m \u001b[1m0s\u001b[0m 7ms/step - attrition_output_accuracy: 0.8953 - attrition_output_loss: 0.2520 - department_output_accuracy: 0.9984 - department_output_loss: 0.0155 - loss: 0.2672 - val_attrition_output_accuracy: 0.7669 - val_attrition_output_loss: 0.6377 - val_department_output_accuracy: 0.9576 - val_department_output_loss: 0.0970 - val_loss: 0.7752\n",
            "Epoch 17/100\n",
            "\u001b[1m30/30\u001b[0m \u001b[32m━━━━━━━━━━━━━━━━━━━━\u001b[0m\u001b[37m\u001b[0m \u001b[1m0s\u001b[0m 5ms/step - attrition_output_accuracy: 0.9156 - attrition_output_loss: 0.2216 - department_output_accuracy: 0.9991 - department_output_loss: 0.0120 - loss: 0.2334 - val_attrition_output_accuracy: 0.7627 - val_attrition_output_loss: 0.6195 - val_department_output_accuracy: 0.9619 - val_department_output_loss: 0.0954 - val_loss: 0.7526\n",
            "Epoch 18/100\n",
            "\u001b[1m30/30\u001b[0m \u001b[32m━━━━━━━━━━━━━━━━━━━━\u001b[0m\u001b[37m\u001b[0m \u001b[1m0s\u001b[0m 8ms/step - attrition_output_accuracy: 0.9103 - attrition_output_loss: 0.2176 - department_output_accuracy: 0.9969 - department_output_loss: 0.0120 - loss: 0.2296 - val_attrition_output_accuracy: 0.7627 - val_attrition_output_loss: 0.6363 - val_department_output_accuracy: 0.9576 - val_department_output_loss: 0.1008 - val_loss: 0.7763\n",
            "Epoch 19/100\n",
            "\u001b[1m30/30\u001b[0m \u001b[32m━━━━━━━━━━━━━━━━━━━━\u001b[0m\u001b[37m\u001b[0m \u001b[1m0s\u001b[0m 9ms/step - attrition_output_accuracy: 0.9225 - attrition_output_loss: 0.2170 - department_output_accuracy: 0.9980 - department_output_loss: 0.0105 - loss: 0.2275 - val_attrition_output_accuracy: 0.7669 - val_attrition_output_loss: 0.6695 - val_department_output_accuracy: 0.9619 - val_department_output_loss: 0.0822 - val_loss: 0.7920\n",
            "Epoch 20/100\n",
            "\u001b[1m30/30\u001b[0m \u001b[32m━━━━━━━━━━━━━━━━━━━━\u001b[0m\u001b[37m\u001b[0m \u001b[1m1s\u001b[0m 9ms/step - attrition_output_accuracy: 0.8973 - attrition_output_loss: 0.2341 - department_output_accuracy: 0.9994 - department_output_loss: 0.0099 - loss: 0.2441 - val_attrition_output_accuracy: 0.7712 - val_attrition_output_loss: 0.6889 - val_department_output_accuracy: 0.9576 - val_department_output_loss: 0.1103 - val_loss: 0.8467\n",
            "Epoch 21/100\n",
            "\u001b[1m30/30\u001b[0m \u001b[32m━━━━━━━━━━━━━━━━━━━━\u001b[0m\u001b[37m\u001b[0m \u001b[1m0s\u001b[0m 12ms/step - attrition_output_accuracy: 0.9167 - attrition_output_loss: 0.2033 - department_output_accuracy: 0.9999 - department_output_loss: 0.0094 - loss: 0.2127 - val_attrition_output_accuracy: 0.7797 - val_attrition_output_loss: 0.7072 - val_department_output_accuracy: 0.9576 - val_department_output_loss: 0.1044 - val_loss: 0.8601\n",
            "Epoch 22/100\n",
            "\u001b[1m30/30\u001b[0m \u001b[32m━━━━━━━━━━━━━━━━━━━━\u001b[0m\u001b[37m\u001b[0m \u001b[1m1s\u001b[0m 15ms/step - attrition_output_accuracy: 0.9141 - attrition_output_loss: 0.2019 - department_output_accuracy: 0.9984 - department_output_loss: 0.0082 - loss: 0.2102 - val_attrition_output_accuracy: 0.7627 - val_attrition_output_loss: 0.7184 - val_department_output_accuracy: 0.9703 - val_department_output_loss: 0.0813 - val_loss: 0.8438\n",
            "Epoch 23/100\n",
            "\u001b[1m30/30\u001b[0m \u001b[32m━━━━━━━━━━━━━━━━━━━━\u001b[0m\u001b[37m\u001b[0m \u001b[1m0s\u001b[0m 10ms/step - attrition_output_accuracy: 0.9258 - attrition_output_loss: 0.2020 - department_output_accuracy: 0.9986 - department_output_loss: 0.0076 - loss: 0.2096 - val_attrition_output_accuracy: 0.7500 - val_attrition_output_loss: 0.7336 - val_department_output_accuracy: 0.9619 - val_department_output_loss: 0.1078 - val_loss: 0.8881\n",
            "Epoch 24/100\n",
            "\u001b[1m30/30\u001b[0m \u001b[32m━━━━━━━━━━━━━━━━━━━━\u001b[0m\u001b[37m\u001b[0m \u001b[1m0s\u001b[0m 6ms/step - attrition_output_accuracy: 0.9326 - attrition_output_loss: 0.1906 - department_output_accuracy: 0.9999 - department_output_loss: 0.0060 - loss: 0.1964 - val_attrition_output_accuracy: 0.7669 - val_attrition_output_loss: 0.7373 - val_department_output_accuracy: 0.9619 - val_department_output_loss: 0.1000 - val_loss: 0.8883\n",
            "Epoch 25/100\n",
            "\u001b[1m30/30\u001b[0m \u001b[32m━━━━━━━━━━━━━━━━━━━━\u001b[0m\u001b[37m\u001b[0m \u001b[1m0s\u001b[0m 6ms/step - attrition_output_accuracy: 0.9225 - attrition_output_loss: 0.1944 - department_output_accuracy: 0.9959 - department_output_loss: 0.0106 - loss: 0.2050 - val_attrition_output_accuracy: 0.7712 - val_attrition_output_loss: 0.7187 - val_department_output_accuracy: 0.9619 - val_department_output_loss: 0.1010 - val_loss: 0.8666\n",
            "Epoch 26/100\n",
            "\u001b[1m30/30\u001b[0m \u001b[32m━━━━━━━━━━━━━━━━━━━━\u001b[0m\u001b[37m\u001b[0m \u001b[1m0s\u001b[0m 6ms/step - attrition_output_accuracy: 0.9349 - attrition_output_loss: 0.1832 - department_output_accuracy: 1.0000 - department_output_loss: 0.0055 - loss: 0.1887 - val_attrition_output_accuracy: 0.7669 - val_attrition_output_loss: 0.7592 - val_department_output_accuracy: 0.9576 - val_department_output_loss: 0.1156 - val_loss: 0.9287\n",
            "Epoch 27/100\n",
            "\u001b[1m30/30\u001b[0m \u001b[32m━━━━━━━━━━━━━━━━━━━━\u001b[0m\u001b[37m\u001b[0m \u001b[1m0s\u001b[0m 7ms/step - attrition_output_accuracy: 0.9338 - attrition_output_loss: 0.1766 - department_output_accuracy: 0.9991 - department_output_loss: 0.0079 - loss: 0.1847 - val_attrition_output_accuracy: 0.7669 - val_attrition_output_loss: 0.7853 - val_department_output_accuracy: 0.9576 - val_department_output_loss: 0.1155 - val_loss: 0.9524\n",
            "Epoch 28/100\n",
            "\u001b[1m30/30\u001b[0m \u001b[32m━━━━━━━━━━━━━━━━━━━━\u001b[0m\u001b[37m\u001b[0m \u001b[1m0s\u001b[0m 6ms/step - attrition_output_accuracy: 0.9306 - attrition_output_loss: 0.1694 - department_output_accuracy: 1.0000 - department_output_loss: 0.0050 - loss: 0.1743 - val_attrition_output_accuracy: 0.7754 - val_attrition_output_loss: 0.7805 - val_department_output_accuracy: 0.9576 - val_department_output_loss: 0.1132 - val_loss: 0.9479\n",
            "Epoch 29/100\n",
            "\u001b[1m30/30\u001b[0m \u001b[32m━━━━━━━━━━━━━━━━━━━━\u001b[0m\u001b[37m\u001b[0m \u001b[1m0s\u001b[0m 7ms/step - attrition_output_accuracy: 0.9434 - attrition_output_loss: 0.1626 - department_output_accuracy: 0.9997 - department_output_loss: 0.0053 - loss: 0.1681 - val_attrition_output_accuracy: 0.7881 - val_attrition_output_loss: 0.7721 - val_department_output_accuracy: 0.9619 - val_department_output_loss: 0.1162 - val_loss: 0.9409\n",
            "Epoch 30/100\n",
            "\u001b[1m30/30\u001b[0m \u001b[32m━━━━━━━━━━━━━━━━━━━━\u001b[0m\u001b[37m\u001b[0m \u001b[1m0s\u001b[0m 6ms/step - attrition_output_accuracy: 0.9293 - attrition_output_loss: 0.1824 - department_output_accuracy: 0.9998 - department_output_loss: 0.0047 - loss: 0.1871 - val_attrition_output_accuracy: 0.7500 - val_attrition_output_loss: 0.8167 - val_department_output_accuracy: 0.9576 - val_department_output_loss: 0.1207 - val_loss: 0.9896\n",
            "Epoch 31/100\n",
            "\u001b[1m30/30\u001b[0m \u001b[32m━━━━━━━━━━━━━━━━━━━━\u001b[0m\u001b[37m\u001b[0m \u001b[1m0s\u001b[0m 6ms/step - attrition_output_accuracy: 0.9428 - attrition_output_loss: 0.1735 - department_output_accuracy: 1.0000 - department_output_loss: 0.0060 - loss: 0.1795 - val_attrition_output_accuracy: 0.7669 - val_attrition_output_loss: 0.8357 - val_department_output_accuracy: 0.9661 - val_department_output_loss: 0.0914 - val_loss: 0.9781\n",
            "Epoch 32/100\n",
            "\u001b[1m30/30\u001b[0m \u001b[32m━━━━━━━━━━━━━━━━━━━━\u001b[0m\u001b[37m\u001b[0m \u001b[1m0s\u001b[0m 5ms/step - attrition_output_accuracy: 0.9383 - attrition_output_loss: 0.1752 - department_output_accuracy: 0.9980 - department_output_loss: 0.0084 - loss: 0.1837 - val_attrition_output_accuracy: 0.7754 - val_attrition_output_loss: 0.8321 - val_department_output_accuracy: 0.9619 - val_department_output_loss: 0.1073 - val_loss: 0.9959\n",
            "Epoch 33/100\n",
            "\u001b[1m30/30\u001b[0m \u001b[32m━━━━━━━━━━━━━━━━━━━━\u001b[0m\u001b[37m\u001b[0m \u001b[1m0s\u001b[0m 5ms/step - attrition_output_accuracy: 0.9604 - attrition_output_loss: 0.1333 - department_output_accuracy: 1.0000 - department_output_loss: 0.0047 - loss: 0.1380 - val_attrition_output_accuracy: 0.7627 - val_attrition_output_loss: 0.8360 - val_department_output_accuracy: 0.9619 - val_department_output_loss: 0.1169 - val_loss: 1.0095\n",
            "Epoch 34/100\n",
            "\u001b[1m30/30\u001b[0m \u001b[32m━━━━━━━━━━━━━━━━━━━━\u001b[0m\u001b[37m\u001b[0m \u001b[1m0s\u001b[0m 6ms/step - attrition_output_accuracy: 0.9483 - attrition_output_loss: 0.1393 - department_output_accuracy: 1.0000 - department_output_loss: 0.0058 - loss: 0.1451 - val_attrition_output_accuracy: 0.7754 - val_attrition_output_loss: 0.8389 - val_department_output_accuracy: 0.9619 - val_department_output_loss: 0.1045 - val_loss: 0.9979\n",
            "Epoch 35/100\n",
            "\u001b[1m30/30\u001b[0m \u001b[32m━━━━━━━━━━━━━━━━━━━━\u001b[0m\u001b[37m\u001b[0m \u001b[1m0s\u001b[0m 6ms/step - attrition_output_accuracy: 0.9639 - attrition_output_loss: 0.1355 - department_output_accuracy: 0.9978 - department_output_loss: 0.0069 - loss: 0.1423 - val_attrition_output_accuracy: 0.7839 - val_attrition_output_loss: 0.9017 - val_department_output_accuracy: 0.9619 - val_department_output_loss: 0.1180 - val_loss: 1.0781\n",
            "Epoch 36/100\n",
            "\u001b[1m30/30\u001b[0m \u001b[32m━━━━━━━━━━━━━━━━━━━━\u001b[0m\u001b[37m\u001b[0m \u001b[1m0s\u001b[0m 6ms/step - attrition_output_accuracy: 0.9558 - attrition_output_loss: 0.1267 - department_output_accuracy: 1.0000 - department_output_loss: 0.0045 - loss: 0.1313 - val_attrition_output_accuracy: 0.7754 - val_attrition_output_loss: 0.8832 - val_department_output_accuracy: 0.9576 - val_department_output_loss: 0.1433 - val_loss: 1.0889\n",
            "Epoch 37/100\n",
            "\u001b[1m30/30\u001b[0m \u001b[32m━━━━━━━━━━━━━━━━━━━━\u001b[0m\u001b[37m\u001b[0m \u001b[1m0s\u001b[0m 6ms/step - attrition_output_accuracy: 0.9623 - attrition_output_loss: 0.1213 - department_output_accuracy: 1.0000 - department_output_loss: 0.0038 - loss: 0.1252 - val_attrition_output_accuracy: 0.7542 - val_attrition_output_loss: 0.8826 - val_department_output_accuracy: 0.9619 - val_department_output_loss: 0.1332 - val_loss: 1.0786\n",
            "Epoch 38/100\n",
            "\u001b[1m30/30\u001b[0m \u001b[32m━━━━━━━━━━━━━━━━━━━━\u001b[0m\u001b[37m\u001b[0m \u001b[1m0s\u001b[0m 5ms/step - attrition_output_accuracy: 0.9611 - attrition_output_loss: 0.1281 - department_output_accuracy: 1.0000 - department_output_loss: 0.0032 - loss: 0.1314 - val_attrition_output_accuracy: 0.7627 - val_attrition_output_loss: 0.8936 - val_department_output_accuracy: 0.9576 - val_department_output_loss: 0.1421 - val_loss: 1.0949\n",
            "Epoch 39/100\n",
            "\u001b[1m30/30\u001b[0m \u001b[32m━━━━━━━━━━━━━━━━━━━━\u001b[0m\u001b[37m\u001b[0m \u001b[1m0s\u001b[0m 7ms/step - attrition_output_accuracy: 0.9562 - attrition_output_loss: 0.1274 - department_output_accuracy: 1.0000 - department_output_loss: 0.0032 - loss: 0.1307 - val_attrition_output_accuracy: 0.7627 - val_attrition_output_loss: 0.9051 - val_department_output_accuracy: 0.9619 - val_department_output_loss: 0.1385 - val_loss: 1.1062\n",
            "Epoch 40/100\n",
            "\u001b[1m30/30\u001b[0m \u001b[32m━━━━━━━━━━━━━━━━━━━━\u001b[0m\u001b[37m\u001b[0m \u001b[1m0s\u001b[0m 5ms/step - attrition_output_accuracy: 0.9542 - attrition_output_loss: 0.1326 - department_output_accuracy: 1.0000 - department_output_loss: 0.0032 - loss: 0.1356 - val_attrition_output_accuracy: 0.7627 - val_attrition_output_loss: 0.9522 - val_department_output_accuracy: 0.9619 - val_department_output_loss: 0.1404 - val_loss: 1.1578\n",
            "Epoch 41/100\n",
            "\u001b[1m30/30\u001b[0m \u001b[32m━━━━━━━━━━━━━━━━━━━━\u001b[0m\u001b[37m\u001b[0m \u001b[1m0s\u001b[0m 5ms/step - attrition_output_accuracy: 0.9670 - attrition_output_loss: 0.1030 - department_output_accuracy: 1.0000 - department_output_loss: 0.0021 - loss: 0.1051 - val_attrition_output_accuracy: 0.7669 - val_attrition_output_loss: 0.9715 - val_department_output_accuracy: 0.9576 - val_department_output_loss: 0.1577 - val_loss: 1.2016\n",
            "Epoch 42/100\n",
            "\u001b[1m30/30\u001b[0m \u001b[32m━━━━━━━━━━━━━━━━━━━━\u001b[0m\u001b[37m\u001b[0m \u001b[1m0s\u001b[0m 6ms/step - attrition_output_accuracy: 0.9630 - attrition_output_loss: 0.1107 - department_output_accuracy: 1.0000 - department_output_loss: 0.0034 - loss: 0.1141 - val_attrition_output_accuracy: 0.7627 - val_attrition_output_loss: 0.9294 - val_department_output_accuracy: 0.9619 - val_department_output_loss: 0.1380 - val_loss: 1.1336\n",
            "Epoch 43/100\n",
            "\u001b[1m30/30\u001b[0m \u001b[32m━━━━━━━━━━━━━━━━━━━━\u001b[0m\u001b[37m\u001b[0m \u001b[1m0s\u001b[0m 5ms/step - attrition_output_accuracy: 0.9718 - attrition_output_loss: 0.1041 - department_output_accuracy: 1.0000 - department_output_loss: 0.0027 - loss: 0.1066 - val_attrition_output_accuracy: 0.7797 - val_attrition_output_loss: 0.9560 - val_department_output_accuracy: 0.9619 - val_department_output_loss: 0.1456 - val_loss: 1.1716\n",
            "Epoch 44/100\n",
            "\u001b[1m30/30\u001b[0m \u001b[32m━━━━━━━━━━━━━━━━━━━━\u001b[0m\u001b[37m\u001b[0m \u001b[1m0s\u001b[0m 5ms/step - attrition_output_accuracy: 0.9719 - attrition_output_loss: 0.1020 - department_output_accuracy: 1.0000 - department_output_loss: 0.0028 - loss: 0.1048 - val_attrition_output_accuracy: 0.7754 - val_attrition_output_loss: 0.9726 - val_department_output_accuracy: 0.9619 - val_department_output_loss: 0.1369 - val_loss: 1.1780\n",
            "Epoch 45/100\n",
            "\u001b[1m30/30\u001b[0m \u001b[32m━━━━━━━━━━━━━━━━━━━━\u001b[0m\u001b[37m\u001b[0m \u001b[1m0s\u001b[0m 6ms/step - attrition_output_accuracy: 0.9732 - attrition_output_loss: 0.0951 - department_output_accuracy: 1.0000 - department_output_loss: 0.0019 - loss: 0.0969 - val_attrition_output_accuracy: 0.7542 - val_attrition_output_loss: 1.0069 - val_department_output_accuracy: 0.9619 - val_department_output_loss: 0.1588 - val_loss: 1.2371\n",
            "Epoch 46/100\n",
            "\u001b[1m30/30\u001b[0m \u001b[32m━━━━━━━━━━━━━━━━━━━━\u001b[0m\u001b[37m\u001b[0m \u001b[1m0s\u001b[0m 5ms/step - attrition_output_accuracy: 0.9712 - attrition_output_loss: 0.0912 - department_output_accuracy: 1.0000 - department_output_loss: 0.0017 - loss: 0.0928 - val_attrition_output_accuracy: 0.7627 - val_attrition_output_loss: 1.0241 - val_department_output_accuracy: 0.9619 - val_department_output_loss: 0.1480 - val_loss: 1.2402\n",
            "Epoch 47/100\n",
            "\u001b[1m30/30\u001b[0m \u001b[32m━━━━━━━━━━━━━━━━━━━━\u001b[0m\u001b[37m\u001b[0m \u001b[1m0s\u001b[0m 6ms/step - attrition_output_accuracy: 0.9809 - attrition_output_loss: 0.0868 - department_output_accuracy: 1.0000 - department_output_loss: 0.0018 - loss: 0.0887 - val_attrition_output_accuracy: 0.7246 - val_attrition_output_loss: 0.9943 - val_department_output_accuracy: 0.9619 - val_department_output_loss: 0.1467 - val_loss: 1.2085\n",
            "Epoch 48/100\n",
            "\u001b[1m30/30\u001b[0m \u001b[32m━━━━━━━━━━━━━━━━━━━━\u001b[0m\u001b[37m\u001b[0m \u001b[1m0s\u001b[0m 6ms/step - attrition_output_accuracy: 0.9757 - attrition_output_loss: 0.0908 - department_output_accuracy: 1.0000 - department_output_loss: 0.0025 - loss: 0.0933 - val_attrition_output_accuracy: 0.7627 - val_attrition_output_loss: 1.0510 - val_department_output_accuracy: 0.9619 - val_department_output_loss: 0.1500 - val_loss: 1.2764\n",
            "Epoch 49/100\n",
            "\u001b[1m30/30\u001b[0m \u001b[32m━━━━━━━━━━━━━━━━━━━━\u001b[0m\u001b[37m\u001b[0m \u001b[1m0s\u001b[0m 6ms/step - attrition_output_accuracy: 0.9849 - attrition_output_loss: 0.0819 - department_output_accuracy: 1.0000 - department_output_loss: 0.0014 - loss: 0.0832 - val_attrition_output_accuracy: 0.7669 - val_attrition_output_loss: 1.0457 - val_department_output_accuracy: 0.9619 - val_department_output_loss: 0.1636 - val_loss: 1.2845\n",
            "Epoch 50/100\n",
            "\u001b[1m30/30\u001b[0m \u001b[32m━━━━━━━━━━━━━━━━━━━━\u001b[0m\u001b[37m\u001b[0m \u001b[1m0s\u001b[0m 6ms/step - attrition_output_accuracy: 0.9855 - attrition_output_loss: 0.0756 - department_output_accuracy: 1.0000 - department_output_loss: 0.0017 - loss: 0.0774 - val_attrition_output_accuracy: 0.7415 - val_attrition_output_loss: 1.0717 - val_department_output_accuracy: 0.9619 - val_department_output_loss: 0.1754 - val_loss: 1.3236\n",
            "Epoch 51/100\n",
            "\u001b[1m30/30\u001b[0m \u001b[32m━━━━━━━━━━━━━━━━━━━━\u001b[0m\u001b[37m\u001b[0m \u001b[1m0s\u001b[0m 6ms/step - attrition_output_accuracy: 0.9810 - attrition_output_loss: 0.0837 - department_output_accuracy: 1.0000 - department_output_loss: 0.0023 - loss: 0.0860 - val_attrition_output_accuracy: 0.7627 - val_attrition_output_loss: 1.0905 - val_department_output_accuracy: 0.9619 - val_department_output_loss: 0.1740 - val_loss: 1.3410\n",
            "Epoch 52/100\n",
            "\u001b[1m30/30\u001b[0m \u001b[32m━━━━━━━━━━━━━━━━━━━━\u001b[0m\u001b[37m\u001b[0m \u001b[1m0s\u001b[0m 7ms/step - attrition_output_accuracy: 0.9774 - attrition_output_loss: 0.0865 - department_output_accuracy: 1.0000 - department_output_loss: 0.0020 - loss: 0.0885 - val_attrition_output_accuracy: 0.7458 - val_attrition_output_loss: 1.0884 - val_department_output_accuracy: 0.9619 - val_department_output_loss: 0.1511 - val_loss: 1.3107\n",
            "Epoch 53/100\n",
            "\u001b[1m30/30\u001b[0m \u001b[32m━━━━━━━━━━━━━━━━━━━━\u001b[0m\u001b[37m\u001b[0m \u001b[1m0s\u001b[0m 6ms/step - attrition_output_accuracy: 0.9824 - attrition_output_loss: 0.0766 - department_output_accuracy: 1.0000 - department_output_loss: 0.0012 - loss: 0.0778 - val_attrition_output_accuracy: 0.7542 - val_attrition_output_loss: 1.1112 - val_department_output_accuracy: 0.9619 - val_department_output_loss: 0.1735 - val_loss: 1.3685\n",
            "Epoch 54/100\n",
            "\u001b[1m30/30\u001b[0m \u001b[32m━━━━━━━━━━━━━━━━━━━━\u001b[0m\u001b[37m\u001b[0m \u001b[1m0s\u001b[0m 5ms/step - attrition_output_accuracy: 0.9857 - attrition_output_loss: 0.0666 - department_output_accuracy: 1.0000 - department_output_loss: 0.0024 - loss: 0.0690 - val_attrition_output_accuracy: 0.7458 - val_attrition_output_loss: 1.1518 - val_department_output_accuracy: 0.9619 - val_department_output_loss: 0.1542 - val_loss: 1.3845\n",
            "Epoch 55/100\n",
            "\u001b[1m30/30\u001b[0m \u001b[32m━━━━━━━━━━━━━━━━━━━━\u001b[0m\u001b[37m\u001b[0m \u001b[1m0s\u001b[0m 7ms/step - attrition_output_accuracy: 0.9845 - attrition_output_loss: 0.0658 - department_output_accuracy: 1.0000 - department_output_loss: 0.0014 - loss: 0.0672 - val_attrition_output_accuracy: 0.7458 - val_attrition_output_loss: 1.1439 - val_department_output_accuracy: 0.9619 - val_department_output_loss: 0.1659 - val_loss: 1.3906\n",
            "Epoch 56/100\n",
            "\u001b[1m30/30\u001b[0m \u001b[32m━━━━━━━━━━━━━━━━━━━━\u001b[0m\u001b[37m\u001b[0m \u001b[1m0s\u001b[0m 5ms/step - attrition_output_accuracy: 0.9844 - attrition_output_loss: 0.0684 - department_output_accuracy: 1.0000 - department_output_loss: 0.0015 - loss: 0.0700 - val_attrition_output_accuracy: 0.7585 - val_attrition_output_loss: 1.1426 - val_department_output_accuracy: 0.9619 - val_department_output_loss: 0.1766 - val_loss: 1.3979\n",
            "Epoch 57/100\n",
            "\u001b[1m30/30\u001b[0m \u001b[32m━━━━━━━━━━━━━━━━━━━━\u001b[0m\u001b[37m\u001b[0m \u001b[1m0s\u001b[0m 5ms/step - attrition_output_accuracy: 0.9791 - attrition_output_loss: 0.0709 - department_output_accuracy: 1.0000 - department_output_loss: 0.0014 - loss: 0.0723 - val_attrition_output_accuracy: 0.7458 - val_attrition_output_loss: 1.1489 - val_department_output_accuracy: 0.9619 - val_department_output_loss: 0.1787 - val_loss: 1.4091\n",
            "Epoch 58/100\n",
            "\u001b[1m30/30\u001b[0m \u001b[32m━━━━━━━━━━━━━━━━━━━━\u001b[0m\u001b[37m\u001b[0m \u001b[1m0s\u001b[0m 6ms/step - attrition_output_accuracy: 0.9875 - attrition_output_loss: 0.0594 - department_output_accuracy: 1.0000 - department_output_loss: 0.0013 - loss: 0.0607 - val_attrition_output_accuracy: 0.7500 - val_attrition_output_loss: 1.1901 - val_department_output_accuracy: 0.9619 - val_department_output_loss: 0.1698 - val_loss: 1.4425\n",
            "Epoch 59/100\n",
            "\u001b[1m30/30\u001b[0m \u001b[32m━━━━━━━━━━━━━━━━━━━━\u001b[0m\u001b[37m\u001b[0m \u001b[1m0s\u001b[0m 7ms/step - attrition_output_accuracy: 0.9869 - attrition_output_loss: 0.0559 - department_output_accuracy: 1.0000 - department_output_loss: 0.0017 - loss: 0.0575 - val_attrition_output_accuracy: 0.7331 - val_attrition_output_loss: 1.1751 - val_department_output_accuracy: 0.9619 - val_department_output_loss: 0.1832 - val_loss: 1.4394\n",
            "Epoch 60/100\n",
            "\u001b[1m30/30\u001b[0m \u001b[32m━━━━━━━━━━━━━━━━━━━━\u001b[0m\u001b[37m\u001b[0m \u001b[1m0s\u001b[0m 6ms/step - attrition_output_accuracy: 0.9842 - attrition_output_loss: 0.0635 - department_output_accuracy: 1.0000 - department_output_loss: 0.0012 - loss: 0.0644 - val_attrition_output_accuracy: 0.7288 - val_attrition_output_loss: 1.2209 - val_department_output_accuracy: 0.9619 - val_department_output_loss: 0.1818 - val_loss: 1.4853\n",
            "Epoch 61/100\n",
            "\u001b[1m30/30\u001b[0m \u001b[32m━━━━━━━━━━━━━━━━━━━━\u001b[0m\u001b[37m\u001b[0m \u001b[1m0s\u001b[0m 6ms/step - attrition_output_accuracy: 0.9911 - attrition_output_loss: 0.0543 - department_output_accuracy: 1.0000 - department_output_loss: 0.0010 - loss: 0.0554 - val_attrition_output_accuracy: 0.7669 - val_attrition_output_loss: 1.2384 - val_department_output_accuracy: 0.9619 - val_department_output_loss: 0.1707 - val_loss: 1.5013\n",
            "Epoch 62/100\n",
            "\u001b[1m30/30\u001b[0m \u001b[32m━━━━━━━━━━━━━━━━━━━━\u001b[0m\u001b[37m\u001b[0m \u001b[1m0s\u001b[0m 7ms/step - attrition_output_accuracy: 0.9911 - attrition_output_loss: 0.0468 - department_output_accuracy: 1.0000 - department_output_loss: 0.0012 - loss: 0.0479 - val_attrition_output_accuracy: 0.7203 - val_attrition_output_loss: 1.2353 - val_department_output_accuracy: 0.9619 - val_department_output_loss: 0.1969 - val_loss: 1.5162\n",
            "Epoch 63/100\n",
            "\u001b[1m30/30\u001b[0m \u001b[32m━━━━━━━━━━━━━━━━━━━━\u001b[0m\u001b[37m\u001b[0m \u001b[1m0s\u001b[0m 10ms/step - attrition_output_accuracy: 0.9904 - attrition_output_loss: 0.0517 - department_output_accuracy: 1.0000 - department_output_loss: 0.0013 - loss: 0.0530 - val_attrition_output_accuracy: 0.7373 - val_attrition_output_loss: 1.2452 - val_department_output_accuracy: 0.9619 - val_department_output_loss: 0.1861 - val_loss: 1.5208\n",
            "Epoch 64/100\n",
            "\u001b[1m30/30\u001b[0m \u001b[32m━━━━━━━━━━━━━━━━━━━━\u001b[0m\u001b[37m\u001b[0m \u001b[1m1s\u001b[0m 9ms/step - attrition_output_accuracy: 0.9882 - attrition_output_loss: 0.0427 - department_output_accuracy: 1.0000 - department_output_loss: 0.0013 - loss: 0.0440 - val_attrition_output_accuracy: 0.7331 - val_attrition_output_loss: 1.2607 - val_department_output_accuracy: 0.9619 - val_department_output_loss: 0.1930 - val_loss: 1.5408\n",
            "Epoch 65/100\n",
            "\u001b[1m30/30\u001b[0m \u001b[32m━━━━━━━━━━━━━━━━━━━━\u001b[0m\u001b[37m\u001b[0m \u001b[1m1s\u001b[0m 11ms/step - attrition_output_accuracy: 0.9961 - attrition_output_loss: 0.0397 - department_output_accuracy: 1.0000 - department_output_loss: 0.0013 - loss: 0.0407 - val_attrition_output_accuracy: 0.7288 - val_attrition_output_loss: 1.2718 - val_department_output_accuracy: 0.9619 - val_department_output_loss: 0.1903 - val_loss: 1.5452\n",
            "Epoch 66/100\n",
            "\u001b[1m30/30\u001b[0m \u001b[32m━━━━━━━━━━━━━━━━━━━━\u001b[0m\u001b[37m\u001b[0m \u001b[1m1s\u001b[0m 9ms/step - attrition_output_accuracy: 0.9967 - attrition_output_loss: 0.0358 - department_output_accuracy: 1.0000 - department_output_loss: 0.0013 - loss: 0.0369 - val_attrition_output_accuracy: 0.7542 - val_attrition_output_loss: 1.3167 - val_department_output_accuracy: 0.9619 - val_department_output_loss: 0.1970 - val_loss: 1.6077\n",
            "Epoch 67/100\n",
            "\u001b[1m30/30\u001b[0m \u001b[32m━━━━━━━━━━━━━━━━━━━━\u001b[0m\u001b[37m\u001b[0m \u001b[1m1s\u001b[0m 6ms/step - attrition_output_accuracy: 0.9900 - attrition_output_loss: 0.0402 - department_output_accuracy: 1.0000 - department_output_loss: 9.4105e-04 - loss: 0.0412 - val_attrition_output_accuracy: 0.7331 - val_attrition_output_loss: 1.3690 - val_department_output_accuracy: 0.9619 - val_department_output_loss: 0.1898 - val_loss: 1.6523\n",
            "Epoch 68/100\n",
            "\u001b[1m30/30\u001b[0m \u001b[32m━━━━━━━━━━━━━━━━━━━━\u001b[0m\u001b[37m\u001b[0m \u001b[1m0s\u001b[0m 5ms/step - attrition_output_accuracy: 0.9955 - attrition_output_loss: 0.0388 - department_output_accuracy: 1.0000 - department_output_loss: 0.0010 - loss: 0.0398 - val_attrition_output_accuracy: 0.7458 - val_attrition_output_loss: 1.3542 - val_department_output_accuracy: 0.9619 - val_department_output_loss: 0.1925 - val_loss: 1.6357\n",
            "Epoch 69/100\n",
            "\u001b[1m30/30\u001b[0m \u001b[32m━━━━━━━━━━━━━━━━━━━━\u001b[0m\u001b[37m\u001b[0m \u001b[1m0s\u001b[0m 7ms/step - attrition_output_accuracy: 0.9904 - attrition_output_loss: 0.0427 - department_output_accuracy: 1.0000 - department_output_loss: 8.8178e-04 - loss: 0.0434 - val_attrition_output_accuracy: 0.7542 - val_attrition_output_loss: 1.3321 - val_department_output_accuracy: 0.9619 - val_department_output_loss: 0.2057 - val_loss: 1.6302\n",
            "Epoch 70/100\n",
            "\u001b[1m30/30\u001b[0m \u001b[32m━━━━━━━━━━━━━━━━━━━━\u001b[0m\u001b[37m\u001b[0m \u001b[1m0s\u001b[0m 6ms/step - attrition_output_accuracy: 0.9934 - attrition_output_loss: 0.0371 - department_output_accuracy: 1.0000 - department_output_loss: 9.5605e-04 - loss: 0.0378 - val_attrition_output_accuracy: 0.7288 - val_attrition_output_loss: 1.3715 - val_department_output_accuracy: 0.9619 - val_department_output_loss: 0.2073 - val_loss: 1.6681\n",
            "Epoch 71/100\n",
            "\u001b[1m30/30\u001b[0m \u001b[32m━━━━━━━━━━━━━━━━━━━━\u001b[0m\u001b[37m\u001b[0m \u001b[1m0s\u001b[0m 6ms/step - attrition_output_accuracy: 0.9949 - attrition_output_loss: 0.0374 - department_output_accuracy: 1.0000 - department_output_loss: 7.2727e-04 - loss: 0.0382 - val_attrition_output_accuracy: 0.7288 - val_attrition_output_loss: 1.4039 - val_department_output_accuracy: 0.9619 - val_department_output_loss: 0.2012 - val_loss: 1.6980\n",
            "Epoch 72/100\n",
            "\u001b[1m30/30\u001b[0m \u001b[32m━━━━━━━━━━━━━━━━━━━━\u001b[0m\u001b[37m\u001b[0m \u001b[1m0s\u001b[0m 6ms/step - attrition_output_accuracy: 0.9914 - attrition_output_loss: 0.0385 - department_output_accuracy: 1.0000 - department_output_loss: 0.0010 - loss: 0.0395 - val_attrition_output_accuracy: 0.7373 - val_attrition_output_loss: 1.3859 - val_department_output_accuracy: 0.9619 - val_department_output_loss: 0.2013 - val_loss: 1.6844\n",
            "Epoch 73/100\n",
            "\u001b[1m30/30\u001b[0m \u001b[32m━━━━━━━━━━━━━━━━━━━━\u001b[0m\u001b[37m\u001b[0m \u001b[1m0s\u001b[0m 6ms/step - attrition_output_accuracy: 0.9968 - attrition_output_loss: 0.0342 - department_output_accuracy: 1.0000 - department_output_loss: 7.1880e-04 - loss: 0.0349 - val_attrition_output_accuracy: 0.7415 - val_attrition_output_loss: 1.4225 - val_department_output_accuracy: 0.9576 - val_department_output_loss: 0.2233 - val_loss: 1.7454\n",
            "Epoch 74/100\n",
            "\u001b[1m30/30\u001b[0m \u001b[32m━━━━━━━━━━━━━━━━━━━━\u001b[0m\u001b[37m\u001b[0m \u001b[1m0s\u001b[0m 6ms/step - attrition_output_accuracy: 0.9975 - attrition_output_loss: 0.0278 - department_output_accuracy: 1.0000 - department_output_loss: 6.8970e-04 - loss: 0.0285 - val_attrition_output_accuracy: 0.7288 - val_attrition_output_loss: 1.4158 - val_department_output_accuracy: 0.9619 - val_department_output_loss: 0.2024 - val_loss: 1.7037\n",
            "Epoch 75/100\n",
            "\u001b[1m30/30\u001b[0m \u001b[32m━━━━━━━━━━━━━━━━━━━━\u001b[0m\u001b[37m\u001b[0m \u001b[1m0s\u001b[0m 6ms/step - attrition_output_accuracy: 0.9979 - attrition_output_loss: 0.0280 - department_output_accuracy: 1.0000 - department_output_loss: 6.7759e-04 - loss: 0.0287 - val_attrition_output_accuracy: 0.7288 - val_attrition_output_loss: 1.4549 - val_department_output_accuracy: 0.9619 - val_department_output_loss: 0.2124 - val_loss: 1.7641\n",
            "Epoch 76/100\n",
            "\u001b[1m30/30\u001b[0m \u001b[32m━━━━━━━━━━━━━━━━━━━━\u001b[0m\u001b[37m\u001b[0m \u001b[1m0s\u001b[0m 7ms/step - attrition_output_accuracy: 0.9985 - attrition_output_loss: 0.0247 - department_output_accuracy: 1.0000 - department_output_loss: 5.8659e-04 - loss: 0.0252 - val_attrition_output_accuracy: 0.7331 - val_attrition_output_loss: 1.4786 - val_department_output_accuracy: 0.9619 - val_department_output_loss: 0.2096 - val_loss: 1.7838\n",
            "Epoch 77/100\n",
            "\u001b[1m30/30\u001b[0m \u001b[32m━━━━━━━━━━━━━━━━━━━━\u001b[0m\u001b[37m\u001b[0m \u001b[1m0s\u001b[0m 6ms/step - attrition_output_accuracy: 0.9994 - attrition_output_loss: 0.0226 - department_output_accuracy: 1.0000 - department_output_loss: 6.9524e-04 - loss: 0.0232 - val_attrition_output_accuracy: 0.7203 - val_attrition_output_loss: 1.4967 - val_department_output_accuracy: 0.9619 - val_department_output_loss: 0.2150 - val_loss: 1.8108\n",
            "Epoch 78/100\n",
            "\u001b[1m30/30\u001b[0m \u001b[32m━━━━━━━━━━━━━━━━━━━━\u001b[0m\u001b[37m\u001b[0m \u001b[1m0s\u001b[0m 6ms/step - attrition_output_accuracy: 0.9976 - attrition_output_loss: 0.0244 - department_output_accuracy: 1.0000 - department_output_loss: 5.2366e-04 - loss: 0.0250 - val_attrition_output_accuracy: 0.7415 - val_attrition_output_loss: 1.4829 - val_department_output_accuracy: 0.9576 - val_department_output_loss: 0.2307 - val_loss: 1.8127\n",
            "Epoch 79/100\n",
            "\u001b[1m30/30\u001b[0m \u001b[32m━━━━━━━━━━━━━━━━━━━━\u001b[0m\u001b[37m\u001b[0m \u001b[1m0s\u001b[0m 6ms/step - attrition_output_accuracy: 0.9948 - attrition_output_loss: 0.0338 - department_output_accuracy: 1.0000 - department_output_loss: 6.8909e-04 - loss: 0.0345 - val_attrition_output_accuracy: 0.7331 - val_attrition_output_loss: 1.5119 - val_department_output_accuracy: 0.9619 - val_department_output_loss: 0.2208 - val_loss: 1.8370\n",
            "Epoch 80/100\n",
            "\u001b[1m30/30\u001b[0m \u001b[32m━━━━━━━━━━━━━━━━━━━━\u001b[0m\u001b[37m\u001b[0m \u001b[1m0s\u001b[0m 6ms/step - attrition_output_accuracy: 0.9964 - attrition_output_loss: 0.0241 - department_output_accuracy: 1.0000 - department_output_loss: 5.6612e-04 - loss: 0.0247 - val_attrition_output_accuracy: 0.7415 - val_attrition_output_loss: 1.5568 - val_department_output_accuracy: 0.9619 - val_department_output_loss: 0.2200 - val_loss: 1.8832\n",
            "Epoch 81/100\n",
            "\u001b[1m30/30\u001b[0m \u001b[32m━━━━━━━━━━━━━━━━━━━━\u001b[0m\u001b[37m\u001b[0m \u001b[1m0s\u001b[0m 6ms/step - attrition_output_accuracy: 0.9971 - attrition_output_loss: 0.0210 - department_output_accuracy: 1.0000 - department_output_loss: 5.1694e-04 - loss: 0.0215 - val_attrition_output_accuracy: 0.7373 - val_attrition_output_loss: 1.5552 - val_department_output_accuracy: 0.9576 - val_department_output_loss: 0.2346 - val_loss: 1.8921\n",
            "Epoch 82/100\n",
            "\u001b[1m30/30\u001b[0m \u001b[32m━━━━━━━━━━━━━━━━━━━━\u001b[0m\u001b[37m\u001b[0m \u001b[1m0s\u001b[0m 5ms/step - attrition_output_accuracy: 0.9978 - attrition_output_loss: 0.0214 - department_output_accuracy: 1.0000 - department_output_loss: 4.9152e-04 - loss: 0.0219 - val_attrition_output_accuracy: 0.7458 - val_attrition_output_loss: 1.5989 - val_department_output_accuracy: 0.9619 - val_department_output_loss: 0.2212 - val_loss: 1.9265\n",
            "Epoch 83/100\n",
            "\u001b[1m30/30\u001b[0m \u001b[32m━━━━━━━━━━━━━━━━━━━━\u001b[0m\u001b[37m\u001b[0m \u001b[1m0s\u001b[0m 6ms/step - attrition_output_accuracy: 0.9965 - attrition_output_loss: 0.0228 - department_output_accuracy: 1.0000 - department_output_loss: 5.1939e-04 - loss: 0.0233 - val_attrition_output_accuracy: 0.7331 - val_attrition_output_loss: 1.5738 - val_department_output_accuracy: 0.9619 - val_department_output_loss: 0.2283 - val_loss: 1.9093\n",
            "Epoch 84/100\n",
            "\u001b[1m30/30\u001b[0m \u001b[32m━━━━━━━━━━━━━━━━━━━━\u001b[0m\u001b[37m\u001b[0m \u001b[1m0s\u001b[0m 6ms/step - attrition_output_accuracy: 0.9957 - attrition_output_loss: 0.0230 - department_output_accuracy: 1.0000 - department_output_loss: 5.7427e-04 - loss: 0.0236 - val_attrition_output_accuracy: 0.7373 - val_attrition_output_loss: 1.6205 - val_department_output_accuracy: 0.9619 - val_department_output_loss: 0.2303 - val_loss: 1.9415\n",
            "Epoch 85/100\n",
            "\u001b[1m30/30\u001b[0m \u001b[32m━━━━━━━━━━━━━━━━━━━━\u001b[0m\u001b[37m\u001b[0m \u001b[1m0s\u001b[0m 6ms/step - attrition_output_accuracy: 0.9948 - attrition_output_loss: 0.0202 - department_output_accuracy: 1.0000 - department_output_loss: 5.2216e-04 - loss: 0.0208 - val_attrition_output_accuracy: 0.7076 - val_attrition_output_loss: 1.5930 - val_department_output_accuracy: 0.9576 - val_department_output_loss: 0.2366 - val_loss: 1.9412\n",
            "Epoch 86/100\n",
            "\u001b[1m30/30\u001b[0m \u001b[32m━━━━━━━━━━━━━━━━━━━━\u001b[0m\u001b[37m\u001b[0m \u001b[1m0s\u001b[0m 6ms/step - attrition_output_accuracy: 0.9982 - attrition_output_loss: 0.0170 - department_output_accuracy: 1.0000 - department_output_loss: 3.8656e-04 - loss: 0.0174 - val_attrition_output_accuracy: 0.7203 - val_attrition_output_loss: 1.6442 - val_department_output_accuracy: 0.9619 - val_department_output_loss: 0.2303 - val_loss: 1.9793\n",
            "Epoch 87/100\n",
            "\u001b[1m30/30\u001b[0m \u001b[32m━━━━━━━━━━━━━━━━━━━━\u001b[0m\u001b[37m\u001b[0m \u001b[1m0s\u001b[0m 6ms/step - attrition_output_accuracy: 0.9994 - attrition_output_loss: 0.0155 - department_output_accuracy: 1.0000 - department_output_loss: 4.7527e-04 - loss: 0.0160 - val_attrition_output_accuracy: 0.7288 - val_attrition_output_loss: 1.6223 - val_department_output_accuracy: 0.9576 - val_department_output_loss: 0.2489 - val_loss: 1.9855\n",
            "Epoch 88/100\n",
            "\u001b[1m30/30\u001b[0m \u001b[32m━━━━━━━━━━━━━━━━━━━━\u001b[0m\u001b[37m\u001b[0m \u001b[1m0s\u001b[0m 6ms/step - attrition_output_accuracy: 0.9987 - attrition_output_loss: 0.0163 - department_output_accuracy: 1.0000 - department_output_loss: 3.4781e-04 - loss: 0.0167 - val_attrition_output_accuracy: 0.7161 - val_attrition_output_loss: 1.6757 - val_department_output_accuracy: 0.9619 - val_department_output_loss: 0.2295 - val_loss: 2.0114\n",
            "Epoch 89/100\n",
            "\u001b[1m30/30\u001b[0m \u001b[32m━━━━━━━━━━━━━━━━━━━━\u001b[0m\u001b[37m\u001b[0m \u001b[1m0s\u001b[0m 6ms/step - attrition_output_accuracy: 0.9974 - attrition_output_loss: 0.0154 - department_output_accuracy: 1.0000 - department_output_loss: 3.7388e-04 - loss: 0.0157 - val_attrition_output_accuracy: 0.7203 - val_attrition_output_loss: 1.6934 - val_department_output_accuracy: 0.9576 - val_department_output_loss: 0.2428 - val_loss: 2.0438\n",
            "Epoch 90/100\n",
            "\u001b[1m30/30\u001b[0m \u001b[32m━━━━━━━━━━━━━━━━━━━━\u001b[0m\u001b[37m\u001b[0m \u001b[1m0s\u001b[0m 6ms/step - attrition_output_accuracy: 0.9975 - attrition_output_loss: 0.0170 - department_output_accuracy: 1.0000 - department_output_loss: 5.1743e-04 - loss: 0.0175 - val_attrition_output_accuracy: 0.7246 - val_attrition_output_loss: 1.7119 - val_department_output_accuracy: 0.9619 - val_department_output_loss: 0.2348 - val_loss: 2.0554\n",
            "Epoch 91/100\n",
            "\u001b[1m30/30\u001b[0m \u001b[32m━━━━━━━━━━━━━━━━━━━━\u001b[0m\u001b[37m\u001b[0m \u001b[1m0s\u001b[0m 6ms/step - attrition_output_accuracy: 0.9977 - attrition_output_loss: 0.0186 - department_output_accuracy: 1.0000 - department_output_loss: 3.4430e-04 - loss: 0.0189 - val_attrition_output_accuracy: 0.7331 - val_attrition_output_loss: 1.7326 - val_department_output_accuracy: 0.9576 - val_department_output_loss: 0.2523 - val_loss: 2.1000\n",
            "Epoch 92/100\n",
            "\u001b[1m30/30\u001b[0m \u001b[32m━━━━━━━━━━━━━━━━━━━━\u001b[0m\u001b[37m\u001b[0m \u001b[1m0s\u001b[0m 6ms/step - attrition_output_accuracy: 0.9969 - attrition_output_loss: 0.0170 - department_output_accuracy: 1.0000 - department_output_loss: 4.7437e-04 - loss: 0.0175 - val_attrition_output_accuracy: 0.7331 - val_attrition_output_loss: 1.7463 - val_department_output_accuracy: 0.9576 - val_department_output_loss: 0.2512 - val_loss: 2.1185\n",
            "Epoch 93/100\n",
            "\u001b[1m30/30\u001b[0m \u001b[32m━━━━━━━━━━━━━━━━━━━━\u001b[0m\u001b[37m\u001b[0m \u001b[1m0s\u001b[0m 6ms/step - attrition_output_accuracy: 0.9966 - attrition_output_loss: 0.0144 - department_output_accuracy: 1.0000 - department_output_loss: 5.2124e-04 - loss: 0.0149 - val_attrition_output_accuracy: 0.7246 - val_attrition_output_loss: 1.7595 - val_department_output_accuracy: 0.9576 - val_department_output_loss: 0.2529 - val_loss: 2.1286\n",
            "Epoch 94/100\n",
            "\u001b[1m30/30\u001b[0m \u001b[32m━━━━━━━━━━━━━━━━━━━━\u001b[0m\u001b[37m\u001b[0m \u001b[1m0s\u001b[0m 5ms/step - attrition_output_accuracy: 1.0000 - attrition_output_loss: 0.0125 - department_output_accuracy: 1.0000 - department_output_loss: 4.4964e-04 - loss: 0.0130 - val_attrition_output_accuracy: 0.7161 - val_attrition_output_loss: 1.7850 - val_department_output_accuracy: 0.9576 - val_department_output_loss: 0.2494 - val_loss: 2.1476\n",
            "Epoch 95/100\n",
            "\u001b[1m30/30\u001b[0m \u001b[32m━━━━━━━━━━━━━━━━━━━━\u001b[0m\u001b[37m\u001b[0m \u001b[1m0s\u001b[0m 6ms/step - attrition_output_accuracy: 0.9990 - attrition_output_loss: 0.0124 - department_output_accuracy: 1.0000 - department_output_loss: 2.1599e-04 - loss: 0.0127 - val_attrition_output_accuracy: 0.7288 - val_attrition_output_loss: 1.7721 - val_department_output_accuracy: 0.9576 - val_department_output_loss: 0.2497 - val_loss: 2.1386\n",
            "Epoch 96/100\n",
            "\u001b[1m30/30\u001b[0m \u001b[32m━━━━━━━━━━━━━━━━━━━━\u001b[0m\u001b[37m\u001b[0m \u001b[1m0s\u001b[0m 6ms/step - attrition_output_accuracy: 0.9994 - attrition_output_loss: 0.0120 - department_output_accuracy: 1.0000 - department_output_loss: 2.9327e-04 - loss: 0.0123 - val_attrition_output_accuracy: 0.7288 - val_attrition_output_loss: 1.8304 - val_department_output_accuracy: 0.9576 - val_department_output_loss: 0.2543 - val_loss: 2.2020\n",
            "Epoch 97/100\n",
            "\u001b[1m30/30\u001b[0m \u001b[32m━━━━━━━━━━━━━━━━━━━━\u001b[0m\u001b[37m\u001b[0m \u001b[1m0s\u001b[0m 6ms/step - attrition_output_accuracy: 0.9991 - attrition_output_loss: 0.0133 - department_output_accuracy: 1.0000 - department_output_loss: 3.4798e-04 - loss: 0.0137 - val_attrition_output_accuracy: 0.7288 - val_attrition_output_loss: 1.7978 - val_department_output_accuracy: 0.9576 - val_department_output_loss: 0.2486 - val_loss: 2.1700\n",
            "Epoch 98/100\n",
            "\u001b[1m30/30\u001b[0m \u001b[32m━━━━━━━━━━━━━━━━━━━━\u001b[0m\u001b[37m\u001b[0m \u001b[1m0s\u001b[0m 6ms/step - attrition_output_accuracy: 0.9998 - attrition_output_loss: 0.0098 - department_output_accuracy: 1.0000 - department_output_loss: 3.8169e-04 - loss: 0.0101 - val_attrition_output_accuracy: 0.7246 - val_attrition_output_loss: 1.8588 - val_department_output_accuracy: 0.9576 - val_department_output_loss: 0.2644 - val_loss: 2.2447\n",
            "Epoch 99/100\n",
            "\u001b[1m30/30\u001b[0m \u001b[32m━━━━━━━━━━━━━━━━━━━━\u001b[0m\u001b[37m\u001b[0m \u001b[1m0s\u001b[0m 6ms/step - attrition_output_accuracy: 0.9999 - attrition_output_loss: 0.0115 - department_output_accuracy: 1.0000 - department_output_loss: 3.2510e-04 - loss: 0.0118 - val_attrition_output_accuracy: 0.7161 - val_attrition_output_loss: 1.8275 - val_department_output_accuracy: 0.9619 - val_department_output_loss: 0.2475 - val_loss: 2.1793\n",
            "Epoch 100/100\n",
            "\u001b[1m30/30\u001b[0m \u001b[32m━━━━━━━━━━━━━━━━━━━━\u001b[0m\u001b[37m\u001b[0m \u001b[1m0s\u001b[0m 6ms/step - attrition_output_accuracy: 1.0000 - attrition_output_loss: 0.0114 - department_output_accuracy: 1.0000 - department_output_loss: 2.8082e-04 - loss: 0.0117 - val_attrition_output_accuracy: 0.7288 - val_attrition_output_loss: 1.8572 - val_department_output_accuracy: 0.9576 - val_department_output_loss: 0.2656 - val_loss: 2.2346\n"
          ]
        }
      ]
    },
    {
      "cell_type": "code",
      "source": [
        "# Evaluate the model with the testing data\n",
        "loss, department_loss, attrition_loss, department_accuracy, attrition_accuracy = model.evaluate(X_test_scaled, [y_test_department, y_test_attrition])\n",
        "\n",
        "# Print the accuracy for both department and attrition\n",
        "print(f\"Department accuracy: {department_accuracy:.4f}\")\n",
        "print(f\"Attrition accuracy: {attrition_accuracy:.4f}\")\n",
        "\n"
      ],
      "metadata": {
        "colab": {
          "base_uri": "https://localhost:8080/"
        },
        "id": "VdS0DpG0z81d",
        "outputId": "78250d72-f723-4f0c-e5a4-481ce4ec1698"
      },
      "execution_count": 25,
      "outputs": [
        {
          "output_type": "stream",
          "name": "stdout",
          "text": [
            "\u001b[1m10/10\u001b[0m \u001b[32m━━━━━━━━━━━━━━━━━━━━\u001b[0m\u001b[37m\u001b[0m \u001b[1m0s\u001b[0m 9ms/step - attrition_output_accuracy: 0.7978 - attrition_output_loss: 1.6754 - department_output_accuracy: 0.9639 - department_output_loss: 0.2751 - loss: 1.9750 \n",
            "Department accuracy: 0.8129\n",
            "Attrition accuracy: 0.9592\n"
          ]
        }
      ]
    },
    {
      "cell_type": "markdown",
      "metadata": {
        "id": "eGSyfsZfWOQM"
      },
      "source": [
        "# Summary\n",
        "\n",
        "In the provided space below, briefly answer the following questions.\n",
        "\n",
        "1. Is accuracy the best metric to use on this data? Why or why not?\n",
        "\n",
        "2. What activation functions did you choose for your output layers, and why?\n",
        "\n",
        "3. Can you name a few ways that this model might be improved?"
      ]
    },
    {
      "cell_type": "markdown",
      "metadata": {
        "id": "pi9SLpFnWvbF"
      },
      "source": [
        "YOUR ANSWERS HERE\n",
        "\n",
        "1. Accuracy is a good metric to use, but in this model it mght not be the best because of a class imbalance in the attrition data.\n",
        "2. I used softmax activation for the department prediction and sigmoid activation for the attrition prediction. Softmax is used for multi-class problems, which was the case in the department prediction. Sigmoid is used for binary classification which was the case in attrition.\n",
        "3. I think I could do some hyperparameter tuning to change the number of layers, neurons, or rate. I could also try and blanace the class using SMOTE."
      ]
    },
    {
      "cell_type": "code",
      "execution_count": null,
      "metadata": {
        "id": "ZuQWjGgGXZ3C"
      },
      "outputs": [],
      "source": []
    }
  ],
  "metadata": {
    "colab": {
      "provenance": []
    },
    "kernelspec": {
      "display_name": "Python 3",
      "language": "python",
      "name": "python3"
    },
    "language_info": {
      "codemirror_mode": {
        "name": "ipython",
        "version": 3
      },
      "file_extension": ".py",
      "mimetype": "text/x-python",
      "name": "python",
      "nbconvert_exporter": "python",
      "pygments_lexer": "ipython3",
      "version": "3.-1.-1"
    },
    "vscode": {
      "interpreter": {
        "hash": "31f2aee4e71d21fbe5cf8b01ff0e069b9275f58929596ceb00d14d90e3e16cd6"
      }
    }
  },
  "nbformat": 4,
  "nbformat_minor": 0
}